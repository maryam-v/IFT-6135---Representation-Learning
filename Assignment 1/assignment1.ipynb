{
  "nbformat": 4,
  "nbformat_minor": 0,
  "metadata": {
    "colab": {
      "provenance": [],
      "collapsed_sections": [
        "_vP6_RXx02jN",
        "bfDi9jm2nRpy",
        "AAtU_NnOmzl5",
        "vafZQQIXzqay",
        "aS1xMN6cz3sm",
        "kKzG13H52D0q"
      ]
    },
    "kernelspec": {
      "name": "python3",
      "display_name": "Python 3"
    },
    "language_info": {
      "name": "python"
    },
    "accelerator": "GPU",
    "widgets": {
      "application/vnd.jupyter.widget-state+json": {
        "d11509ab8c274f27b7c0c0efc5b97db0": {
          "model_module": "@jupyter-widgets/controls",
          "model_name": "HBoxModel",
          "model_module_version": "1.5.0",
          "state": {
            "_dom_classes": [],
            "_model_module": "@jupyter-widgets/controls",
            "_model_module_version": "1.5.0",
            "_model_name": "HBoxModel",
            "_view_count": null,
            "_view_module": "@jupyter-widgets/controls",
            "_view_module_version": "1.5.0",
            "_view_name": "HBoxView",
            "box_style": "",
            "children": [
              "IPY_MODEL_a4c16687c0db4db48a881fd47aa79acf",
              "IPY_MODEL_ceab6f5b89d74957b9524a81ecd9a772",
              "IPY_MODEL_0c95ac29e4c54746b7871f8d26d37b45"
            ],
            "layout": "IPY_MODEL_965ac46eb33440058fb22e80c91e5739"
          }
        },
        "a4c16687c0db4db48a881fd47aa79acf": {
          "model_module": "@jupyter-widgets/controls",
          "model_name": "HTMLModel",
          "model_module_version": "1.5.0",
          "state": {
            "_dom_classes": [],
            "_model_module": "@jupyter-widgets/controls",
            "_model_module_version": "1.5.0",
            "_model_name": "HTMLModel",
            "_view_count": null,
            "_view_module": "@jupyter-widgets/controls",
            "_view_module_version": "1.5.0",
            "_view_name": "HTMLView",
            "description": "",
            "description_tooltip": null,
            "layout": "IPY_MODEL_1a3ef2dcdcef423cab7de6e34d083c93",
            "placeholder": "​",
            "style": "IPY_MODEL_7364c737619c4bcf9c4866dd9afe4474",
            "value": "100%"
          }
        },
        "ceab6f5b89d74957b9524a81ecd9a772": {
          "model_module": "@jupyter-widgets/controls",
          "model_name": "FloatProgressModel",
          "model_module_version": "1.5.0",
          "state": {
            "_dom_classes": [],
            "_model_module": "@jupyter-widgets/controls",
            "_model_module_version": "1.5.0",
            "_model_name": "FloatProgressModel",
            "_view_count": null,
            "_view_module": "@jupyter-widgets/controls",
            "_view_module_version": "1.5.0",
            "_view_name": "ProgressView",
            "bar_style": "success",
            "description": "",
            "description_tooltip": null,
            "layout": "IPY_MODEL_a768e50bdb6f40c2abf0f9fa8198d32b",
            "max": 170498071,
            "min": 0,
            "orientation": "horizontal",
            "style": "IPY_MODEL_11982d5d64e24e249380b0607c2e34ff",
            "value": 170498071
          }
        },
        "0c95ac29e4c54746b7871f8d26d37b45": {
          "model_module": "@jupyter-widgets/controls",
          "model_name": "HTMLModel",
          "model_module_version": "1.5.0",
          "state": {
            "_dom_classes": [],
            "_model_module": "@jupyter-widgets/controls",
            "_model_module_version": "1.5.0",
            "_model_name": "HTMLModel",
            "_view_count": null,
            "_view_module": "@jupyter-widgets/controls",
            "_view_module_version": "1.5.0",
            "_view_name": "HTMLView",
            "description": "",
            "description_tooltip": null,
            "layout": "IPY_MODEL_11bd08c681ac4a4883a3a14b14ce7b99",
            "placeholder": "​",
            "style": "IPY_MODEL_b5357922c03049808d85c3790d4a4887",
            "value": " 170498071/170498071 [00:01&lt;00:00, 114376837.90it/s]"
          }
        },
        "965ac46eb33440058fb22e80c91e5739": {
          "model_module": "@jupyter-widgets/base",
          "model_name": "LayoutModel",
          "model_module_version": "1.2.0",
          "state": {
            "_model_module": "@jupyter-widgets/base",
            "_model_module_version": "1.2.0",
            "_model_name": "LayoutModel",
            "_view_count": null,
            "_view_module": "@jupyter-widgets/base",
            "_view_module_version": "1.2.0",
            "_view_name": "LayoutView",
            "align_content": null,
            "align_items": null,
            "align_self": null,
            "border": null,
            "bottom": null,
            "display": null,
            "flex": null,
            "flex_flow": null,
            "grid_area": null,
            "grid_auto_columns": null,
            "grid_auto_flow": null,
            "grid_auto_rows": null,
            "grid_column": null,
            "grid_gap": null,
            "grid_row": null,
            "grid_template_areas": null,
            "grid_template_columns": null,
            "grid_template_rows": null,
            "height": null,
            "justify_content": null,
            "justify_items": null,
            "left": null,
            "margin": null,
            "max_height": null,
            "max_width": null,
            "min_height": null,
            "min_width": null,
            "object_fit": null,
            "object_position": null,
            "order": null,
            "overflow": null,
            "overflow_x": null,
            "overflow_y": null,
            "padding": null,
            "right": null,
            "top": null,
            "visibility": null,
            "width": null
          }
        },
        "1a3ef2dcdcef423cab7de6e34d083c93": {
          "model_module": "@jupyter-widgets/base",
          "model_name": "LayoutModel",
          "model_module_version": "1.2.0",
          "state": {
            "_model_module": "@jupyter-widgets/base",
            "_model_module_version": "1.2.0",
            "_model_name": "LayoutModel",
            "_view_count": null,
            "_view_module": "@jupyter-widgets/base",
            "_view_module_version": "1.2.0",
            "_view_name": "LayoutView",
            "align_content": null,
            "align_items": null,
            "align_self": null,
            "border": null,
            "bottom": null,
            "display": null,
            "flex": null,
            "flex_flow": null,
            "grid_area": null,
            "grid_auto_columns": null,
            "grid_auto_flow": null,
            "grid_auto_rows": null,
            "grid_column": null,
            "grid_gap": null,
            "grid_row": null,
            "grid_template_areas": null,
            "grid_template_columns": null,
            "grid_template_rows": null,
            "height": null,
            "justify_content": null,
            "justify_items": null,
            "left": null,
            "margin": null,
            "max_height": null,
            "max_width": null,
            "min_height": null,
            "min_width": null,
            "object_fit": null,
            "object_position": null,
            "order": null,
            "overflow": null,
            "overflow_x": null,
            "overflow_y": null,
            "padding": null,
            "right": null,
            "top": null,
            "visibility": null,
            "width": null
          }
        },
        "7364c737619c4bcf9c4866dd9afe4474": {
          "model_module": "@jupyter-widgets/controls",
          "model_name": "DescriptionStyleModel",
          "model_module_version": "1.5.0",
          "state": {
            "_model_module": "@jupyter-widgets/controls",
            "_model_module_version": "1.5.0",
            "_model_name": "DescriptionStyleModel",
            "_view_count": null,
            "_view_module": "@jupyter-widgets/base",
            "_view_module_version": "1.2.0",
            "_view_name": "StyleView",
            "description_width": ""
          }
        },
        "a768e50bdb6f40c2abf0f9fa8198d32b": {
          "model_module": "@jupyter-widgets/base",
          "model_name": "LayoutModel",
          "model_module_version": "1.2.0",
          "state": {
            "_model_module": "@jupyter-widgets/base",
            "_model_module_version": "1.2.0",
            "_model_name": "LayoutModel",
            "_view_count": null,
            "_view_module": "@jupyter-widgets/base",
            "_view_module_version": "1.2.0",
            "_view_name": "LayoutView",
            "align_content": null,
            "align_items": null,
            "align_self": null,
            "border": null,
            "bottom": null,
            "display": null,
            "flex": null,
            "flex_flow": null,
            "grid_area": null,
            "grid_auto_columns": null,
            "grid_auto_flow": null,
            "grid_auto_rows": null,
            "grid_column": null,
            "grid_gap": null,
            "grid_row": null,
            "grid_template_areas": null,
            "grid_template_columns": null,
            "grid_template_rows": null,
            "height": null,
            "justify_content": null,
            "justify_items": null,
            "left": null,
            "margin": null,
            "max_height": null,
            "max_width": null,
            "min_height": null,
            "min_width": null,
            "object_fit": null,
            "object_position": null,
            "order": null,
            "overflow": null,
            "overflow_x": null,
            "overflow_y": null,
            "padding": null,
            "right": null,
            "top": null,
            "visibility": null,
            "width": null
          }
        },
        "11982d5d64e24e249380b0607c2e34ff": {
          "model_module": "@jupyter-widgets/controls",
          "model_name": "ProgressStyleModel",
          "model_module_version": "1.5.0",
          "state": {
            "_model_module": "@jupyter-widgets/controls",
            "_model_module_version": "1.5.0",
            "_model_name": "ProgressStyleModel",
            "_view_count": null,
            "_view_module": "@jupyter-widgets/base",
            "_view_module_version": "1.2.0",
            "_view_name": "StyleView",
            "bar_color": null,
            "description_width": ""
          }
        },
        "11bd08c681ac4a4883a3a14b14ce7b99": {
          "model_module": "@jupyter-widgets/base",
          "model_name": "LayoutModel",
          "model_module_version": "1.2.0",
          "state": {
            "_model_module": "@jupyter-widgets/base",
            "_model_module_version": "1.2.0",
            "_model_name": "LayoutModel",
            "_view_count": null,
            "_view_module": "@jupyter-widgets/base",
            "_view_module_version": "1.2.0",
            "_view_name": "LayoutView",
            "align_content": null,
            "align_items": null,
            "align_self": null,
            "border": null,
            "bottom": null,
            "display": null,
            "flex": null,
            "flex_flow": null,
            "grid_area": null,
            "grid_auto_columns": null,
            "grid_auto_flow": null,
            "grid_auto_rows": null,
            "grid_column": null,
            "grid_gap": null,
            "grid_row": null,
            "grid_template_areas": null,
            "grid_template_columns": null,
            "grid_template_rows": null,
            "height": null,
            "justify_content": null,
            "justify_items": null,
            "left": null,
            "margin": null,
            "max_height": null,
            "max_width": null,
            "min_height": null,
            "min_width": null,
            "object_fit": null,
            "object_position": null,
            "order": null,
            "overflow": null,
            "overflow_x": null,
            "overflow_y": null,
            "padding": null,
            "right": null,
            "top": null,
            "visibility": null,
            "width": null
          }
        },
        "b5357922c03049808d85c3790d4a4887": {
          "model_module": "@jupyter-widgets/controls",
          "model_name": "DescriptionStyleModel",
          "model_module_version": "1.5.0",
          "state": {
            "_model_module": "@jupyter-widgets/controls",
            "_model_module_version": "1.5.0",
            "_model_name": "DescriptionStyleModel",
            "_view_count": null,
            "_view_module": "@jupyter-widgets/base",
            "_view_module_version": "1.2.0",
            "_view_name": "StyleView",
            "description_width": ""
          }
        }
      }
    }
  },
  "cells": [
    {
      "cell_type": "markdown",
      "source": [
        "# IFT6135-A2022\n",
        "# Assignment 1: Practical\n",
        "\n",
        "You must fill in your answers to various questions in this notebook, following which you must export this notebook to a Python file named `solution.py` and submit it on Gradescope.\n",
        "\n",
        "Only edit the functions specified in the PDF (and wherever marked – `# WRITE CODE HERE`). Do not change definitions or edit the rest of the template, else the autograder will not work."
      ],
      "metadata": {
        "id": "nWJnNLufy2Yl"
      }
    },
    {
      "cell_type": "markdown",
      "source": [
        "**Make sure you request a GPU runtime (especially for Question 3)!**"
      ],
      "metadata": {
        "id": "SYa2b_UaRdZL"
      }
    },
    {
      "cell_type": "code",
      "execution_count": 2,
      "metadata": {
        "id": "Chq23hzpyqGB"
      },
      "outputs": [],
      "source": [
        "# DO NOT MODIFY!\n",
        "import matplotlib.pyplot as plt\n",
        "import numpy as np\n",
        "import random\n",
        "\n",
        "# Fix random seed\n",
        "random.seed(0)\n",
        "np.random.seed(0)"
      ]
    },
    {
      "cell_type": "markdown",
      "source": [
        "## Question 1: Implementing MLPs with NumPy (30 points)"
      ],
      "metadata": {
        "id": "_vP6_RXx02jN"
      }
    },
    {
      "cell_type": "code",
      "source": [
        "class NN(object):\n",
        "  \"\"\"\n",
        "    Implements an MLP.\n",
        "  \"\"\"\n",
        "\n",
        "  def __init__(self,\n",
        "               dims=(784, 128, 64, 10), # h_0, h_1, h_2, h_3\n",
        "               activation=\"relu\",       # Activation function\n",
        "               epsilon=1e-6,            # Correction factor\n",
        "               lr=0.01,                 # Learning rate\n",
        "               seed=0                   # Random seed\n",
        "              ):\n",
        "    \"\"\"\n",
        "      Constructor of the NN class.\n",
        "\n",
        "      dims: list or tuple or np.array, default (784, 128, 64, 10)\n",
        "        Values of h_0 (no. of features), h_1 (hidden dim. 1), h_2 (hidden dim. 2), h_3 (no. of output classes).\n",
        "      activation: string, default \"relu\"\n",
        "        Activation function to use.\n",
        "      epsilon: float or double, default 1e-6\n",
        "        Correction factor to clip probabilities.\n",
        "      lr: float or double, default 0.01\n",
        "        Learning rate for weight updates.\n",
        "      seed: int, default 0\n",
        "        Random seed.\n",
        "    \"\"\"\n",
        "    super(NN, self).__init__()\n",
        "\n",
        "    self.dims = dims\n",
        "    self.n_hidden = len(dims) - 2\n",
        "    self.activation_str = activation\n",
        "    self.epsilon = epsilon\n",
        "    self.lr = lr\n",
        "    self.seed = seed\n",
        "\n",
        "  def initialize_weights(self):\n",
        "    \"\"\"\n",
        "      Results: Initializes the weights of the MLP from uniform(-1/sqrt(h_0), 1/sqrt(h_0)) and the biases to zeros.\n",
        "    \"\"\"\n",
        "    if self.seed is not None:\n",
        "      np.random.seed(self.seed)\n",
        "\n",
        "    self.weights = {}\n",
        "    # self.weights is a dictionary with keys W1, b1, W2, b2, ..., Wm, Bm where m - 1 is the number of hidden layers\n",
        "    # The keys W1, W2, ..., Wm correspond to weights while b1, b2, ..., bm correspond to biases\n",
        "    for layer_n in range(1, self.n_hidden + 2):\n",
        "      # WRITE CODE HERE\n",
        "      self.weights[f\"b{layer_n}\"] = np.zeros((1, self.dims[layer_n]))\n",
        "      self.weights[f\"W{layer_n}\"] = np.random.uniform(low=-1/np.sqrt(self.dims[0]), high=1/np.sqrt(self.dims[0]), size=(self.dims[layer_n-1], self.dims[layer_n]))\n",
        "\n",
        "  def relu(self, x, grad=False):\n",
        "    \"\"\"\n",
        "      x: np.array\n",
        "        Inputs to calculate ReLU(x) for. x may contain a batch of inputs!\n",
        "      grad: bool, default False\n",
        "        If True, return the gradient of the activation with respect to the inputs to the function.\n",
        "\n",
        "      Outputs: Implements the ReLU activation function or its gradient.\n",
        "    \"\"\"\n",
        "    if grad:\n",
        "      # WRITE CODE HERE\n",
        "      gradient = np.greater(x, 0).astype(float)\n",
        "\n",
        "      return gradient\n",
        "    # WRITE CODE HERE\n",
        "\n",
        "    output = np.maximum(x,0)\n",
        "\n",
        "    return output\n",
        "\n",
        "  def sigmoid(self, x, grad=False):\n",
        "    \"\"\"\n",
        "      x: np.array\n",
        "        Inputs to calculate sigmoid(x) for. x may contain a batch of inputs!\n",
        "      grad: bool, default False\n",
        "        If True, return the gradient of the activation with respect to the inputs to the function.\n",
        "\n",
        "      Outputs: Implements the Sigmoid activation function or its gradient.\n",
        "    \"\"\"\n",
        "    if grad:\n",
        "      # WRITE CODE HERE\n",
        "      gradient = np.exp(-x)/(np.exp(-x)+1)**2\n",
        "\n",
        "    # WRITE CODE HERE\n",
        "    output = 1/(1 + np.exp(-x))\n",
        "\n",
        "    if grad:\n",
        "      output = gradient \n",
        "\n",
        "    return output\n",
        "\n",
        "  def tanh(self, x, grad=False):\n",
        "    \"\"\"\n",
        "      x: np.array\n",
        "        Inputs to calculate tanh(x) for. x may contain a batch of inputs!\n",
        "      grad: bool, default False\n",
        "        If True, return the gradient of the activation with respect to the inputs to the function.\n",
        "\n",
        "      Outputs: Implements the tanh activation function or its gradient.\n",
        "    \"\"\"\n",
        "    if grad:\n",
        "      # WRITE CODE HERE\n",
        "      gradient = 1 - ((np.exp(x)-np.exp(-x))/(np.exp(x)+np.exp(-x)))**2\n",
        "    # WRITE CODE HERE\n",
        "    output = (np.exp(x)-np.exp(-x))/(np.exp(x)+np.exp(-x))\n",
        "    if grad:\n",
        "      output = gradient\n",
        "\n",
        "    return output\n",
        "\n",
        "  def activation(self, x, grad=False):\n",
        "    \"\"\"\n",
        "      x: np.array\n",
        "        Inputs to calculate activation(x) for. x may contain a batch of inputs!\n",
        "      grad: bool, default False\n",
        "        If True, return the gradient of the activation with respect to the inputs to the function.\n",
        "\n",
        "      Outputs: Returns the value of the activation or the gradient.\n",
        "    \"\"\"\n",
        "    if self.activation_str == \"relu\":\n",
        "      # WRITE CODE HERE\n",
        "      output = self.relu(x, grad)\n",
        "      pass\n",
        "    elif self.activation_str == \"sigmoid\":\n",
        "      # WRITE CODE HERE\n",
        "      output = self.sigmoid(x, grad)\n",
        "      pass\n",
        "    elif self.activation_str == \"tanh\":\n",
        "      # WRITE CODE HERE\n",
        "      output = self.tanh(x, grad)\n",
        "\n",
        "    else:\n",
        "      raise Exception(\"Invalid activation\")\n",
        "      \n",
        "    return output\n",
        "\n",
        "  def softmax(self, x):\n",
        "    \"\"\"\n",
        "      x: np.array\n",
        "        Inputs to calculate softmax over. x may contain a batch of inputs!\n",
        "\n",
        "      Outputs: Implements the softmax function, returns the array containing softmax(x).\n",
        "    \"\"\"\n",
        "    # Remember that softmax(x-C) = softmax(x) when C is a constant.\n",
        "    # WRITE CODE HERE\n",
        "\n",
        "    x_max = np.max(x, axis=-1).reshape(x.shape[0],-1)\n",
        "    x = x - x_max\n",
        "    e_x = np.exp(x)\n",
        "    e_x_sum = np.sum(e_x, axis=-1).reshape(x.shape[0],-1)\n",
        "    output = e_x/e_x_sum\n",
        "\n",
        "    return output\n",
        "\n",
        "  def forward(self, x):\n",
        "    \"\"\"\n",
        "      x: np.array\n",
        "        Inputs to the MLP. Note that x may contain multiple input examples, not just one example.\n",
        "\n",
        "      Outputs: Implements the forward pass, returns cache as described below.\n",
        "    \"\"\"\n",
        "    cache = {\"Z0\": x}\n",
        "    # cache is a dictionary with keys Z0, A1, Z1, ..., Am, Zm where m - 1 is the number of hidden layers\n",
        "    # Z0 just contains the inputs x to the network\n",
        "    # Ai corresponds to the preactivation at layer i, Zi corresponds to the activation at layer i\n",
        "    # WRITE CODE HERE\n",
        "\n",
        "    for layer_n in range(1, self.n_hidden + 2):\n",
        "      w = self.weights[f\"W{layer_n}\"] \n",
        "      b = self.weights[f\"b{layer_n}\"] \n",
        "      \n",
        "      cache[f\"A{layer_n}\"] = np.dot(cache[f\"Z{layer_n-1}\"],w)+b\n",
        "      if layer_n == self.n_hidden+1:\n",
        "        cache[f\"Z{layer_n}\"] = self.softmax(cache[f\"A{layer_n}\"]) \n",
        "      else: \n",
        "        cache[f\"Z{layer_n}\"] = self.activation(cache[f\"A{layer_n}\"])\n",
        "    \n",
        "    return cache\n",
        "\n",
        "  def loss(self, prediction, labels):\n",
        "    \"\"\"\n",
        "      prediction: np.array\n",
        "        Predicted probabilities for each class for inputs. May contain multiple examples (a batch)!\n",
        "      labels: np.array\n",
        "        True labels corresponding to the inputs (assume they are one-hot encoded). May contain multiple examples (a batch)!\n",
        "\n",
        "      Outputs: Returns the crossentropy loss (take the mean over number of inputs).\n",
        "    \"\"\"\n",
        "    prediction[np.where(prediction < self.epsilon)] = self.epsilon\n",
        "    prediction[np.where(prediction > 1 - self.epsilon)] = 1 - self.epsilon\n",
        "    # WRITE CODE HERE\n",
        "    \n",
        "    num_samples = labels.shape[0]\n",
        "\n",
        "    l = np.sum((labels*np.log(prediction)))\n",
        "\n",
        "    cross_entropy = -1/num_samples*(l)\n",
        "    \n",
        "    return cross_entropy\n",
        "\n",
        "  def backward(self, cache, labels):\n",
        "    \"\"\"\n",
        "      cache: np.array\n",
        "        Results of the backward pass. This may be for multiple examples (a batch).\n",
        "      labels: np.array\n",
        "        True labels corresponding to the inputs in cache. May contain multiple examples (a batch)!\n",
        "\n",
        "      Outputs: Implements the backward pass, returns grads as described below.\n",
        "    \"\"\"\n",
        "    output = cache[f\"Z{self.n_hidden + 1}\"]\n",
        "    grads = {}\n",
        "\n",
        "    # grads is a dictionary with keys dAm, dWm, dbm, dZ(m-1), dA(m-1), ..., dW1, db1\n",
        "    # Remember to account for the number of input examples!\n",
        "    # WRITE CODE HERE\n",
        "    num_samples = cache[\"Z0\"].shape[0] \n",
        "\n",
        "    grads[f\"dA{self.n_hidden+1}\"] = output - labels\n",
        "    grads[f\"dW{self.n_hidden+1}\"] = 1/num_samples*np.dot(cache[f\"Z{self.n_hidden}\"].T, grads[f\"dA{self.n_hidden+1}\"])\n",
        "    grads[f\"db{self.n_hidden+1}\"] = 1/num_samples*np.sum(grads[f\"dA{self.n_hidden+1}\"], axis=0,keepdims=True)\n",
        "\n",
        "    for layer in range(self.n_hidden,0, -1):\n",
        "\n",
        "      grads[f\"dZ{layer}\"] = np.dot(grads[f\"dA{layer+1}\"], self.weights[f\"W{layer+1}\"].T)\n",
        "      grads[f\"dA{layer}\"] = grads[f\"dZ{layer}\"]*self.activation(cache[f\"A{layer}\"], grad=True)\n",
        "      grads[f\"dW{layer}\"] = 1/num_samples*np.dot(cache[f\"Z{layer-1}\"].T, grads[f\"dA{layer}\"])\n",
        "      grads[f\"db{layer}\"] = 1/num_samples*np.sum(grads[f\"dA{layer}\"], axis=0,keepdims=True)\n",
        "  \n",
        "\n",
        "    return grads\n",
        "\n",
        "\n",
        "  def update(self, grads):\n",
        "    \"\"\"\n",
        "      grads: np.dictionary\n",
        "        Gradients obtained from the backward pass.\n",
        "\n",
        "      Results: Updates the network's weights and biases.\n",
        "    \"\"\"\n",
        "    for layer in range(1, self.n_hidden + 2):\n",
        "      # WRITE CODE HERE\n",
        "      self.weights[f\"W{layer}\"] = self.weights[f\"W{layer}\"] - self.lr * grads[f\"dW{layer}\"]\n",
        "      self.weights[f\"b{layer}\"] = self.weights[f\"b{layer}\"] - self.lr * grads[f\"db{layer}\"]\n",
        "\n",
        "\n",
        "      pass"
      ],
      "metadata": {
        "id": "wGcNlHs101Sb"
      },
      "execution_count": 3,
      "outputs": []
    },
    {
      "cell_type": "markdown",
      "source": [
        "## Question 2: Implementing CNN layers with NumPy (20 points)\n",
        "Note: You may assume that there are no biases, no input padding (valid convolution) and also that convolution here refers to cross-correlation, i.e., no kernel flipping when convolving the inputs."
      ],
      "metadata": {
        "id": "bfDi9jm2nRpy"
      }
    },
    {
      "cell_type": "code",
      "source": [
        "class Convolution2dLayer(object):\n",
        "  \"\"\"\n",
        "    Implements a 2D convolution layer.\n",
        "  \"\"\"\n",
        "\n",
        "  def __init__(self, filter_size=3, stride=1, n_units=64, seed=0):\n",
        "    \"\"\"\n",
        "      Constructor of the Convolution2dLayer class.\n",
        "\n",
        "      Note: We assume that the input images have only a single channel.\n",
        "\n",
        "      filter_size: int, default 3\n",
        "        Filter size to use for convolution. We assume equal height and width.\n",
        "      stride: int, default 1\n",
        "        Stride for convolution.\n",
        "      n_units: int, default 64\n",
        "        Number of output channels, i.e., number of filters in the layer.\n",
        "      seed: int, default 0\n",
        "        Random seed.\n",
        "    \"\"\"\n",
        "    super(Convolution2dLayer, self).__init__()\n",
        "\n",
        "    self.filter_size = filter_size\n",
        "    self.stride = stride\n",
        "    self.n_units = n_units\n",
        "    self.seed = seed\n",
        "\n",
        "  def initialize_weights(self):     \n",
        "    \"\"\"\n",
        "      Results: Initializes the weights of the CNN from uniform(0, 1).\n",
        "    \"\"\"   \n",
        "    if self.seed is not None:\n",
        "      np.random.seed(self.seed)\n",
        "\n",
        "    # self.weights is an np.array of shape (n_units, filter_size, filter_size)\n",
        "    # We do not consider biases in this convolution layer implementation\n",
        "    # WRITE CODE HERE\n",
        "\n",
        "    self.weights = np.random.uniform(low=0,high=1,size=(self.n_units,self.filter_size,self.filter_size))\n",
        "\n",
        "  def forward(self, x):\n",
        "    \"\"\"\n",
        "      x: np.array\n",
        "        Inputs to convolve. This may contain multiple input examples, not just one.\n",
        "        Note: We assume that the input images have only a single channel, e.g. (5, 1, 32, 32) where 5 is the number of\n",
        "        images, 1 channel, 32x32 image size.\n",
        "\n",
        "      Outputs: Inputs and the result of the convolution operation on the inputs stored in cache.\n",
        "\n",
        "      Note: You need not flip the kernel! You may just implement cross-correlation.\n",
        "    \"\"\"\n",
        "    cache = {}\n",
        "\n",
        "    # cache is a dictionary where cache[\"x\"] stores the inputs and cache[\"out\"] stores the outputs of the layer\n",
        "    # WRITE CODE HERE\n",
        "    cache[\"x\"] = x\n",
        "    num_images = cache[\"x\"].shape[0]\n",
        "    num_channels_input = cache[\"x\"].shape[1]\n",
        "    W = cache[\"x\"].shape[2]\n",
        "    H = cache[\"x\"].shape[3]\n",
        "    padding = 0\n",
        "    n_H = int((W-self.filter_size+2*padding)/self.stride+1)\n",
        "    n_W = int((H-self.filter_size+2*padding)/self.stride+1)\n",
        "\n",
        "    output = np.zeros((num_images, self.n_units, n_H, n_W))\n",
        "\n",
        "    for image in range(num_images):\n",
        "      x_slice = x[image,0,:,:]\n",
        "      for j in range(n_H):\n",
        "        for k in range(n_W):\n",
        "          mult = np.multiply(x_slice[j:j+self.filter_size, k:k+self.filter_size], self.weights)\n",
        "          output[image,:,j,k] = np.sum(np.sum(mult,axis=-1),axis=-1)\n",
        "\n",
        "\n",
        "    cache[\"out\"] = output\n",
        "    \n",
        "    return cache\n",
        "\n",
        "  def backward(self, cache, grad_output):\n",
        "    \"\"\"\n",
        "      cache: dictionary\n",
        "        Contains the inputs and the result of the convolution operation applied on them.\n",
        "      grad_output: np.array\n",
        "        Gradient of the loss with respect to the outputs of the convolution layer.\n",
        "\n",
        "      Outputs: Gradient of the loss with respect to the parameters of the convolution layer.\n",
        "    \"\"\"\n",
        "    grads = None\n",
        "    # grads is an np.array containing the gradient of the loss with respect to the parameters in the convolution layer\n",
        "    # Remember to account for the number of input examples!\n",
        "    # WRITE CODE HERE\n",
        "\n",
        "    \n",
        "    pass\n",
        "    return grads\n",
        "\n",
        "\n",
        "class MaxPooling2dLayer(object):\n",
        "  \"\"\"\n",
        "    Implements a 2D max-pooling layer.\n",
        "  \"\"\"\n",
        "\n",
        "  def __init__(self, filter_size=2):\n",
        "    \"\"\"\n",
        "      Constructor of the MaxPooling2dLayer class.\n",
        "\n",
        "      filter_size: int, default 2\n",
        "        Filter size to use for max-pooling. We assume equal height and width, and stride = height = width.\n",
        "    \"\"\"\n",
        "    super(MaxPooling2dLayer, self).__init__()\n",
        "  \n",
        "    self.filter_size = filter_size\n",
        "    self.stride = filter_size\n",
        "\n",
        "  def forward(self, x):\n",
        "    \"\"\"\n",
        "      x: np.array\n",
        "        Inputs to compute max-pooling for. This may contain multiple input examples, not just one.\n",
        "        Note: The input dimensions to max-pooling are the output dimensions of the convolution!\n",
        "\n",
        "      Outputs: Inputs and the result of the max-pooling operation on the inputs stored in cache.\n",
        "    \"\"\"\n",
        "    cache = {}\n",
        "\n",
        "    # cache is a dictionary where cache[\"x\"] stores the inputs and cache[\"out\"] stores the outputs of the layer\n",
        "    # WRITE CODE HERE\n",
        "    cache[\"x\"] = x\n",
        "    num_images = cache[\"x\"].shape[0]\n",
        "    num_channels = cache[\"x\"].shape[1]\n",
        "    W = cache[\"x\"].shape[2]\n",
        "    H = cache[\"x\"].shape[3]\n",
        "    padding = 0\n",
        "    n_H = int((W-self.filter_size+2*padding)/self.stride+1)\n",
        "    n_W = int((H-self.filter_size+2*padding)/self.stride+1)\n",
        "\n",
        "    output = np.zeros((num_images, num_channels, n_H, n_W))\n",
        "\n",
        "    for image in range(num_images):\n",
        "      x_slice = x[image,:,:,:]\n",
        "      for j in range(n_H):\n",
        "        for k in range(n_W):\n",
        "          output[image,:,j,k] = np.max(np.max(x_slice[:,j*self.stride:j*self.stride+self.filter_size, k*self.stride:k*self.stride+self.filter_size],axis=-1),axis=-1)  \n",
        "             \n",
        "    cache[\"out\"] = output\n",
        "    return cache\n",
        "\n",
        "  def backward(self, cache, grad_output):\n",
        "    \"\"\"\n",
        "      cache: dictionary\n",
        "        Contains the inputs and the result of the max-pooling operation applied on them.\n",
        "      grad_output: np.array\n",
        "        Gradient of the loss with respect to the outputs of the max-pooling layer.\n",
        "\n",
        "      Outputs: Gradient of the loss with respect to the inputs to the max-pooling layer.\n",
        "    \"\"\"\n",
        "    grads = None # WRITE CODE HERE (initialize grads correctly)\n",
        "\n",
        "    # grads is an np.array containing the gradient of the loss with respect to the inputs to the max-pooling layer\n",
        "    # Remember to account for the number of input examples!\n",
        "    # WRITE CODE HERE\n",
        "    pass\n",
        "    return grads"
      ],
      "metadata": {
        "id": "nE4N79Gondyy"
      },
      "execution_count": 4,
      "outputs": []
    },
    {
      "cell_type": "code",
      "source": [
        "class Convolution2dLayer(object):\n",
        "  \"\"\"\n",
        "    Implements a 2D convolution layer.\n",
        "  \"\"\"\n",
        "\n",
        "  def __init__(self, filter_size=3, stride=1, n_units=64, seed=0):\n",
        "    \"\"\"\n",
        "      Constructor of the Convolution2dLayer class.\n",
        "\n",
        "      Note: We assume that the input images have only a single channel.\n",
        "\n",
        "      filter_size: int, default 3\n",
        "        Filter size to use for convolution. We assume equal height and width.\n",
        "      stride: int, default 1\n",
        "        Stride for convolution.\n",
        "      n_units: int, default 64\n",
        "        Number of output channels, i.e., number of filters in the layer.\n",
        "      seed: int, default 0\n",
        "        Random seed.\n",
        "    \"\"\"\n",
        "    super(Convolution2dLayer, self).__init__()\n",
        "\n",
        "    self.filter_size = filter_size\n",
        "    self.stride = stride\n",
        "    self.n_units = n_units\n",
        "    self.seed = seed\n",
        "\n",
        "  def initialize_weights(self):     \n",
        "    \"\"\"\n",
        "      Results: Initializes the weights of the CNN from uniform(0, 1).\n",
        "    \"\"\"   \n",
        "    if self.seed is not None:\n",
        "      np.random.seed(self.seed)\n",
        "\n",
        "    # self.weights is an np.array of shape (n_units, filter_size, filter_size)\n",
        "    # We do not consider biases in this convolution layer implementation\n",
        "    # WRITE CODE HERE\n",
        "\n",
        "    self.weights = np.random.uniform(low=0,high=1,size=(self.n_units,self.filter_size,self.filter_size))\n",
        "\n",
        "  def forward(self, x):\n",
        "    \"\"\"\n",
        "      x: np.array\n",
        "        Inputs to convolve. This may contain multiple input examples, not just one.\n",
        "        Note: We assume that the input images have only a single channel, e.g. (5, 1, 32, 32) where 5 is the number of\n",
        "        images, 1 channel, 32x32 image size.\n",
        "\n",
        "      Outputs: Inputs and the result of the convolution operation on the inputs stored in cache.\n",
        "\n",
        "      Note: You need not flip the kernel! You may just implement cross-correlation.\n",
        "    \"\"\"\n",
        "    cache = {}\n",
        "\n",
        "    # cache is a dictionary where cache[\"x\"] stores the inputs and cache[\"out\"] stores the outputs of the layer\n",
        "    # WRITE CODE HERE\n",
        "    cache[\"x\"] = x\n",
        "    num_images = cache[\"x\"].shape[0]\n",
        "    num_channels_input = cache[\"x\"].shape[1]\n",
        "    W = cache[\"x\"].shape[2]\n",
        "    H = cache[\"x\"].shape[3]\n",
        "    padding = 0\n",
        "    n_H = int((W-self.filter_size+2*padding)/self.stride+1)\n",
        "    n_W = int((H-self.filter_size+2*padding)/self.stride+1)\n",
        "\n",
        "    output = np.zeros((num_images, self.n_units, n_H, n_W))\n",
        "\n",
        "    for image in range(num_images):\n",
        "      x_slice = x[image,0,:,:]\n",
        "      for j in range(n_H):\n",
        "        for k in range(n_W):\n",
        "          mult = np.multiply(x_slice[j:j+self.filter_size, k:k+self.filter_size], self.weights)\n",
        "          output[image,:,j,k] = np.sum(np.sum(mult,axis=-1),axis=-1)\n",
        "\n",
        "\n",
        "    cache[\"out\"] = output\n",
        "    \n",
        "    return cache\n",
        "\n",
        "  def backward(self, cache, grad_output):\n",
        "    \"\"\"\n",
        "      cache: dictionary\n",
        "        Contains the inputs and the result of the convolution operation applied on them.\n",
        "      grad_output: np.array\n",
        "        Gradient of the loss with respect to the outputs of the convolution layer.\n",
        "\n",
        "      Outputs: Gradient of the loss with respect to the parameters of the convolution layer.\n",
        "    \"\"\"\n",
        "    \n",
        "    # grads is an np.array containing the gradient of the loss with respect to the parameters in the convolution layer\n",
        "    # Remember to account for the number of input examples!\n",
        "    # WRITE CODE HERE\n",
        "    x = cache[\"x\"]\n",
        "    num_images = grad_output.shape[0]\n",
        "    num_channels = grad_output.shape[1]\n",
        "    W = grad_output.shape[2]\n",
        "    H = grad_output.shape[3]\n",
        "\n",
        "    grads = np.zeros(self.weights.shape)\n",
        "\n",
        "    for image in range(num_images):\n",
        "      input_conv = x[image,:,:,:]\n",
        "\n",
        "      for channel in range(num_channels):\n",
        "        for j in range(W):\n",
        "          for k in range(H):\n",
        "            input_slice = input_conv[:,j:j+self.filter_size, k:k+self.filter_size].reshape(self.filter_size, self.filter_size)\n",
        "            grads[channel,:,:]+=input_slice*grad_output[image, channel, j,k]\n",
        "          \n",
        "\n",
        "  \n",
        "    return grads\n",
        "\n",
        "\n",
        "class MaxPooling2dLayer(object):\n",
        "  \"\"\"\n",
        "    Implements a 2D max-pooling layer.\n",
        "  \"\"\"\n",
        "\n",
        "  def __init__(self, filter_size=2):\n",
        "    \"\"\"\n",
        "      Constructor of the MaxPooling2dLayer class.\n",
        "\n",
        "      filter_size: int, default 2\n",
        "        Filter size to use for max-pooling. We assume equal height and width, and stride = height = width.\n",
        "    \"\"\"\n",
        "    super(MaxPooling2dLayer, self).__init__()\n",
        "  \n",
        "    self.filter_size = filter_size\n",
        "    self.stride = filter_size\n",
        "\n",
        "  def forward(self, x):\n",
        "    \"\"\"\n",
        "      x: np.array\n",
        "        Inputs to compute max-pooling for. This may contain multiple input examples, not just one.\n",
        "        Note: The input dimensions to max-pooling are the output dimensions of the convolution!\n",
        "\n",
        "      Outputs: Inputs and the result of the max-pooling operation on the inputs stored in cache.\n",
        "    \"\"\"\n",
        "    cache = {}\n",
        "\n",
        "    # cache is a dictionary where cache[\"x\"] stores the inputs and cache[\"out\"] stores the outputs of the layer\n",
        "    # WRITE CODE HERE\n",
        "    cache[\"x\"] = x\n",
        "    num_images = cache[\"x\"].shape[0]\n",
        "    num_channels = cache[\"x\"].shape[1]\n",
        "    W = cache[\"x\"].shape[2]\n",
        "    H = cache[\"x\"].shape[3]\n",
        "    padding = 0\n",
        "    n_H = int((W-self.filter_size+2*padding)/self.stride+1)\n",
        "    n_W = int((H-self.filter_size+2*padding)/self.stride+1)\n",
        "\n",
        "    output = np.zeros((num_images, num_channels, n_H, n_W))\n",
        "\n",
        "    for image in range(num_images):\n",
        "      x_slice = x[image,:,:,:]\n",
        "      for j in range(n_H):\n",
        "        for k in range(n_W):\n",
        "          output[image,:,j,k] = np.max(np.max(x_slice[:,j*self.stride:j*self.stride+self.filter_size, k*self.stride:k*self.stride+self.filter_size],axis=-1),axis=-1)  \n",
        "             \n",
        "    cache[\"out\"] = output\n",
        "    return cache\n",
        "\n",
        "  def backward(self, cache, grad_output):\n",
        "    \"\"\"\n",
        "      cache: dictionary\n",
        "        Contains the inputs and the result of the max-pooling operation applied on them.\n",
        "      grad_output: np.array\n",
        "        Gradient of the loss with respect to the outputs of the max-pooling layer.\n",
        "\n",
        "      Outputs: Gradient of the loss with respect to the inputs to the max-pooling layer.\n",
        "    \"\"\"\n",
        "    grads = None # WRITE CODE HERE (initialize grads correctly)\n",
        "    grads = np.zeros(cache[\"x\"].shape)\n",
        "    # grads is an np.array containing the gradient of the loss with respect to the inputs to the max-pooling layer\n",
        "    # Remember to account for the number of input examples!\n",
        "    # WRITE CODE HERE\n",
        "    x = cache[\"x\"]\n",
        "    num_images = grad_output.shape[0]\n",
        "    num_channels = grad_output.shape[1]\n",
        "    W = grad_output.shape[2]\n",
        "    H = grad_output.shape[3]\n",
        "\n",
        "    for image in range(num_images):\n",
        "      input_pool = x[image,:,:,:]\n",
        "      for channel in range(num_channels):\n",
        "        for j in range(W):\n",
        "          for k in range(H):\n",
        "            input_pool_slice = input_pool[channel,j*self.stride:j*self.stride+self.filter_size, k*self.stride:k*self.stride+self.filter_size]\n",
        "            mask = (input_pool_slice == np.max(input_pool_slice))\n",
        "            grads[image,channel,j*self.stride:j*self.stride+self.filter_size, k*self.stride:k*self.stride+self.filter_size]+=mask*grad_output[image,channel,j,k]\n",
        "\n",
        "    return grads"
      ],
      "metadata": {
        "id": "4izuNHEiB6kA"
      },
      "execution_count": 5,
      "outputs": []
    },
    {
      "cell_type": "markdown",
      "source": [
        "## Question 3: Implementing a CNN and comparison with MLPs using PyTorch (50 points)"
      ],
      "metadata": {
        "id": "AUMIWPZVYXp_"
      }
    },
    {
      "cell_type": "code",
      "source": [
        "# DO NOT MODIFY!\n",
        "import torch\n",
        "import torch.nn as nn\n",
        "import torch.nn.functional as F\n",
        "import torch.nn.init as init\n",
        "import torch.optim as optim\n",
        "import torchvision\n",
        "import torchvision.transforms as transforms\n",
        "device = \"cuda\" if torch.cuda.is_available() else \"cpu\"\n",
        "\n",
        "# Fix random seed\n",
        "torch.manual_seed(0)\n",
        "torch.cuda.manual_seed_all(0)\n",
        "torch.cuda.manual_seed(0)\n",
        "torch.backends.cudnn.deterministic = True\n",
        "torch.backends.cudnn.benchmark = False"
      ],
      "metadata": {
        "id": "zWKKIED3CPsC"
      },
      "execution_count": 6,
      "outputs": []
    },
    {
      "cell_type": "code",
      "source": [
        "class ResidualBlock(nn.Module):\n",
        "  \"\"\"This class implements the Residual Block used in ResNet-18.\"\"\"\n",
        "\n",
        "  def __init__(self, in_channels, channels, conv_stride=1, activation_str=\"relu\", initialization=\"xavier_normal\"):\n",
        "    \"\"\"\n",
        "      Constructor for the ResidualBlock class.\n",
        "\n",
        "      in_channels: int\n",
        "        Number of channels in the input to the block.\n",
        "      channels: int\n",
        "        Number of output channels for the block, i.e., number of filters.\n",
        "      conv_stride: int, default 1\n",
        "        Stride of the first convolution layer and downsampling convolution (if required).\n",
        "      activation_str: string, default \"relu\"\n",
        "        Activation function to use.\n",
        "      initialization: string, default \"xavier_normal\"\n",
        "        Initialization for convolution layer weights.\n",
        "    \"\"\"\n",
        "    super(ResidualBlock, self).__init__()\n",
        "\n",
        "    self.in_channels = in_channels\n",
        "    self.channels = channels\n",
        "    self.conv_stride = conv_stride\n",
        "    self.activation_str = activation_str\n",
        "    self.initialization = initialization\n",
        "\n",
        "    # Define these members by replacing `None` with the correct definitions\n",
        "    self.conv1 = torch.nn.Conv2d(self.in_channels, self.channels, kernel_size = 3, stride = self.conv_stride, padding=1, bias=False) # WRITE CODE HERE\n",
        "    self.bn1 = nn.BatchNorm2d(self.channels)   # WRITE CODE HERE\n",
        "    self.conv2 = torch.nn.Conv2d(self.channels, self.channels, kernel_size = 3, stride = 1, padding=1, bias=False) # WRITE CODE HERE\n",
        "    self.bn2 = nn.BatchNorm2d(self.channels)   # WRITE CODE HERE\n",
        "\n",
        "    self.residual_connection = self.residual(in_channels, channels, conv_stride)\n",
        "\n",
        "    # Initialize weights for conv1 and conv2\n",
        "    if initialization == \"xavier_normal\":\n",
        "      # WRITE CODE HERE\n",
        "      nn.init.xavier_normal_(self.conv1.weight)\n",
        "      nn.init.xavier_normal_(self.conv2.weight)\n",
        "    elif initialization == \"xavier_uniform\":\n",
        "      # WRITE CODE HERE\n",
        "      torch.nn.init.xavier_uniform_(self.conv1.weight)\n",
        "      torch.nn.init.xavier_uniform_(self.conv2.weight)\n",
        "    elif initialization == \"kaiming_normal\":\n",
        "      # WRITE CODE HERE\n",
        "      nn.init.kaiming_normal_(self.conv1.weight)\n",
        "      nn.init.kaiming_normal_(self.conv2.weight)\n",
        "    else:\n",
        "      raise Exception(\"Invalid initialization\")\n",
        "\n",
        "  def activation(self, input):\n",
        "    \"\"\"\n",
        "      input: Tensor\n",
        "        Input on which the activation is applied.\n",
        "\n",
        "      Output: Result of activation function applied on input.\n",
        "        E.g. if self.activation_str is \"relu\", return relu(input).\n",
        "    \"\"\"\n",
        "    if self.activation_str == \"relu\":\n",
        "      return torch.relu(input)\n",
        "      \n",
        "    elif self.activation_str == \"tanh\":\n",
        "      return torch.tanh(input)\n",
        "      \n",
        "    else:\n",
        "      raise Exception(\"Invalid activation\")\n",
        "    return 0\n",
        "\n",
        "  def residual(self, in_channels, channels, conv_stride=1):\n",
        "    \"\"\"\n",
        "      in_channels: int\n",
        "        Number of input channels in the input to the block.\n",
        "      channels: int\n",
        "        Number of output channels for the block, i.e., number of filters.\n",
        "      conv_stride: int, default 1\n",
        "        Stride to use for downsampling 1x1 convolution.\n",
        "\n",
        "      Output: Returns an nn.Sequential object which computes the identity function of the input if stride is 1\n",
        "              and the number of input channels equals the number of output channels. Otherwise, it returns an\n",
        "              nn.Sequential object that downsamples its input using a 1x1-conv of the stride specified and\n",
        "              followed by a BatchNorm2d.\n",
        "    \"\"\"\n",
        "    layers = []\n",
        "    if conv_stride != 1 or in_channels != channels:\n",
        "      # WRITE CODE HERE\n",
        "      return nn.Sequential(nn.Conv2d(in_channels,channels, kernel_size=1,stride=conv_stride, padding=0, bias=False),\n",
        "                           nn.BatchNorm2d(channels)\n",
        "          )\n",
        "    return nn.Sequential(*layers)\n",
        "\n",
        "  def forward(self, x):\n",
        "    \"\"\"\n",
        "      x: Tensor\n",
        "        Input to the block.\n",
        "\n",
        "      Outputs: Returns the output of the forward pass of the block.\n",
        "    \"\"\"\n",
        "    # WRITE CODE HERE\n",
        "    out = self.activation(self.bn1(self.conv1(x)))\n",
        "    out = self.bn2(self.conv2(out))\n",
        "    out += self.residual_connection(x)\n",
        "    out = self.activation(out)\n",
        "    \n",
        "    return out"
      ],
      "metadata": {
        "id": "ntEJKZ2eYgqk"
      },
      "execution_count": 7,
      "outputs": []
    },
    {
      "cell_type": "code",
      "source": [
        "class ResNet18(nn.Module):\n",
        "  \"\"\"This class implements the ResNet-18 architecture from its components.\"\"\"\n",
        "\n",
        "  def __init__(self, activation_str=\"relu\", initialization=\"xavier_normal\"):\n",
        "    \"\"\"\n",
        "      Constructor for the ResNet18 class.\n",
        "\n",
        "      activation_str: string, default \"relu\"\n",
        "        Activation function to use.\n",
        "      initialization: string, default \"xavier_normal\"\n",
        "        Weight initialization to use.\n",
        "    \"\"\"\n",
        "    super(ResNet18, self).__init__()\n",
        "\n",
        "    self.n_classes = 10\n",
        "    self.activation_str = activation_str\n",
        "    self.initialization = initialization\n",
        "\n",
        "\n",
        "    # Define these members by replacing `None` with the correct definitions\n",
        "    self.conv1 = nn.Conv2d(3, 64, kernel_size=3, stride=1, padding =1, bias=False) # WRITE CODE HERE\n",
        "    self.bn1 = nn.BatchNorm2d(64)     # WRITE CODE HERE\n",
        "    self.layer1 = self._create_layer(64, 64, conv_stride = 1)  # WRITE CODE HERE (use _create_layer)\n",
        "    self.layer2 = self._create_layer(64, 128, conv_stride = 2)  # WRITE CODE HERE (use _create_layer)\n",
        "    self.layer3 = self._create_layer(128, 256, conv_stride = 2)  # WRITE CODE HERE (use _create_layer)\n",
        "    self.layer4 = self._create_layer(256, 512, conv_stride = 2)  # WRITE CODE HERE (use _create_layer)\n",
        "    self.avgpool = nn.AvgPool2d(kernel_size=4) # WRITE CODE HERE\n",
        "    #nn.AdaptiveAvgPool2d((1,1))\n",
        "    #nn.AvgPool2d(kernel_size=4) \n",
        "    self.linear = nn.Linear(512, 10, bias=True)  # WRITE CODE HERE\n",
        "  \n",
        "  def activation(self, input):\n",
        "    \"\"\"\n",
        "      input: Tensor\n",
        "        Input on which the activation is applied.\n",
        "\n",
        "      Output: Result of activation function applied on input.\n",
        "        E.g. if self.activation_str is \"relu\", return relu(input).\n",
        "    \"\"\"\n",
        "    if self.activation_str == \"relu\":\n",
        "      # WRITE CODE HERE\n",
        "      return torch.relu(input)\n",
        "    elif self.activation_str == \"tanh\":\n",
        "      # WRITE CODE HERE\n",
        "      return torch.tanh(input)\n",
        "    else:\n",
        "      raise Exception(\"Invalid activation\")\n",
        "    return 0\n",
        "\n",
        "  def _create_layer(self, in_channels, channels, conv_stride=1):\n",
        "    \"\"\"\n",
        "      in_channels: int\n",
        "        Number of input channels present in the input to the layer.\n",
        "      out_channels: int\n",
        "        Number of output channels for the layer, i.e., the number of filters.\n",
        "      conv_stride: int, default 1\n",
        "        Stride of the first convolution layer in the block and the downsampling convolution (if required).\n",
        "\n",
        "      Outputs: Returns an nn.Sequential object giving a \"layer\" of the ResNet, consisting of 2 blocks each.\n",
        "    \"\"\"\n",
        "    # Modify the following statement to return an nn.Sequential object containing 2 ResidualBlocks.\n",
        "    # You must make sure that the appropriate channels and conv_stride are provided.\n",
        "    return nn.Sequential(ResidualBlock(in_channels,channels,conv_stride,activation_str=self.activation_str, initialization=self.initialization),\n",
        "                         ResidualBlock(channels,channels, conv_stride = 1, activation_str=self.activation_str, initialization=self.initialization)) # WRITE CODE HERE\n",
        "\n",
        "  def get_first_conv_layer_filters(self):\n",
        "    \"\"\"\n",
        "      Outputs: Returns the filters in the first convolution layer.\n",
        "    \"\"\"\n",
        "    return self.conv1.weight.clone().cpu().detach().numpy()\n",
        "\n",
        "  def get_last_conv_layer_filters(self):\n",
        "    \"\"\"\n",
        "      Outputs: Returns the filters in the last convolution layer.\n",
        "    \"\"\"\n",
        "    return list(self.layer4.modules())[1].conv2.weight.clone().cpu().detach().numpy()\n",
        "\n",
        "  def forward(self, x):\n",
        "    \"\"\"\n",
        "      x: Tensor\n",
        "        Input to the network.\n",
        "\n",
        "      Outputs: Returns the output of the forward pass of the network.\n",
        "    \"\"\"\n",
        "    # WRITE CODE HERE\n",
        "\n",
        "    out = self.activation(self.bn1(self.conv1(x)))\n",
        "    out = self.layer1(out)\n",
        "    out = self.layer2(out)\n",
        "    out = self.layer3(out)\n",
        "    out = self.layer4(out)\n",
        "    out = self.avgpool(out)\n",
        "    out = out.view(out.size(0),-1)\n",
        "    out = self.linear(out)\n",
        "    \n",
        "    return out"
      ],
      "metadata": {
        "id": "o0XI3Qo1nMEq"
      },
      "execution_count": 8,
      "outputs": []
    },
    {
      "cell_type": "code",
      "source": [
        "def get_cifar10():  \n",
        "  transform = transforms.Compose([\n",
        "      transforms.ToTensor()\n",
        "  ])\n",
        "\n",
        "  train_dataset = torchvision.datasets.CIFAR10(\n",
        "      root='./data', train=True, download=True, transform=transform)\n",
        "  train_loader = torch.utils.data.DataLoader(\n",
        "      train_dataset, batch_size=128, shuffle=True, num_workers=2)\n",
        "\n",
        "  val_dataset = torchvision.datasets.CIFAR10(\n",
        "      root='./data', train=False, download=True, transform=transform)\n",
        "  val_loader = torch.utils.data.DataLoader(\n",
        "      val_dataset, batch_size=128, shuffle=False, num_workers=2)\n",
        "  \n",
        "  return train_loader, val_loader\n",
        "\n",
        "def train_loop(epoch, model, train_loader, criterion, optimizer):\n",
        "  \"\"\"\n",
        "    epoch: int\n",
        "      Number of the current training epoch (starting from 0).\n",
        "    model: ResNet18\n",
        "      The model to train, which is an instance of the ResNet18 class.\n",
        "    train_loader: DataLoader\n",
        "      The training dataloader.\n",
        "    criterion: Module\n",
        "      A Module object that evaluates the crossentropy loss.\n",
        "    optimizer: Optimizer\n",
        "      An Optimizer object for the Adam optimizer.\n",
        "\n",
        "    Outputs: Returns average train_acc and train_loss for the current epoch.\n",
        "  \"\"\"\n",
        "  train_acc = 0.\n",
        "  train_loss = 0.\n",
        "\n",
        "  # WRITE CODE HERE\n",
        "  device = torch.device(\"cuda:0\" if torch.cuda.is_available() else \"cpu\")\n",
        "  model.train()  \n",
        "  sum_loss = 0\n",
        "  total = 0\n",
        "  correct = 0\n",
        "\n",
        "  for i, data in enumerate(train_loader, start=1):\n",
        "    inputs, labels = data\n",
        "    inputs, labels = inputs.to(device), labels.to(device)\n",
        "    outputs = model(inputs)\n",
        "    loss = criterion(outputs, labels)\n",
        "\n",
        "    # backward\n",
        "    optimizer.zero_grad()\n",
        "    loss.backward()\n",
        "    optimizer.step()\n",
        "\n",
        "    sum_loss += loss.item()\n",
        "    _, predicted = torch.max(outputs.data, 1)\n",
        "    total += labels.size(0)\n",
        "    correct += torch.sum(predicted == labels.data)\n",
        "\n",
        "  train_loss=sum_loss/len(train_loader)\n",
        "  train_acc=100.*correct/total\n",
        "\n",
        "\n",
        "\n",
        "  print(f\"Epoch: {epoch} | Train Acc: {train_acc:.6f} | Train Loss: {train_loss:.6f}\")\n",
        "  return train_acc, train_loss\n",
        "\n",
        "def valid_loop(epoch, model, val_loader, criterion):\n",
        "  \"\"\"\n",
        "    epoch: int\n",
        "      Number of the current epoch (starting from 0).\n",
        "    model: ResNet18\n",
        "      The model to train, which is an instance of the ResNet18 class.\n",
        "    val_loader: DataLoader\n",
        "      The validation dataloader.\n",
        "    criterion: Module\n",
        "      A Module object that evaluates the crossentropy loss.\n",
        "\n",
        "    Outputs: Returns average val_acc and val_loss for the current epoch.\n",
        "  \"\"\"\n",
        "  val_acc = 0.\n",
        "  val_loss = 0.\n",
        "\n",
        "  # WRITE CODE HERE\n",
        "  model.eval()\n",
        "  sum_loss = 0\n",
        "  total = 0\n",
        "  correct = 0\n",
        "\n",
        "  device = torch.device(\"cuda:0\" if torch.cuda.is_available() else \"cpu\")\n",
        "  for data in val_loader:\n",
        "    inputs, labels = data\n",
        "    inputs, labels = inputs.to(device), labels.to(device)\n",
        "    outputs = model(inputs)\n",
        "    \n",
        "    loss = criterion(outputs, labels)\n",
        "\n",
        "    sum_loss += loss.item()\n",
        "    _, predicted = torch.max(outputs.data, 1)\n",
        "    total += labels.size(0)\n",
        "    correct += torch.sum(predicted == labels.data)\n",
        "\n",
        "  val_loss=sum_loss/len(val_loader)\n",
        "  val_acc=100.*correct/total\n",
        "\n",
        "  print(f\"Epoch: {epoch} | Val Acc: {val_acc:.6f}   | Val Loss: {val_loss:.6f}\")\n",
        "  return val_acc, val_loss"
      ],
      "metadata": {
        "id": "VTImAF6S7xIU"
      },
      "execution_count": 9,
      "outputs": []
    },
    {
      "cell_type": "code",
      "source": [
        "activation_str = \"relu\"\n",
        "initialization = \"xavier_normal\""
      ],
      "metadata": {
        "id": "8fsB_xpIC1oG"
      },
      "execution_count": 10,
      "outputs": []
    },
    {
      "cell_type": "code",
      "source": [
        "if __name__ == \"__main__\":\n",
        "  train_accs, train_losses, val_accs, val_losses = [], [], [], []\n",
        "  n_epochs = 25\n",
        "\n",
        "  model = ResNet18(\n",
        "    activation_str=activation_str,\n",
        "    initialization=initialization\n",
        "  ).to(device)\n",
        "  criterion = nn.CrossEntropyLoss()\n",
        "  optimizer = optim.Adam(model.parameters())\n",
        "\n",
        "  train_loader, val_loader = get_cifar10()\n",
        "\n",
        "  for epoch in range(n_epochs):\n",
        "    # Training\n",
        "    train_acc, train_loss = train_loop(epoch, model, train_loader, criterion, optimizer)\n",
        "    train_accs.append(train_acc)\n",
        "    train_losses.append(train_loss)\n",
        "\n",
        "    # Validation\n",
        "    val_acc, val_loss = valid_loop(epoch, model, val_loader, criterion)\n",
        "    val_accs.append(val_acc)\n",
        "    val_losses.append(val_loss)"
      ],
      "metadata": {
        "id": "Fr4bZ8W1B6Kc",
        "colab": {
          "base_uri": "https://localhost:8080/",
          "height": 990,
          "referenced_widgets": [
            "d11509ab8c274f27b7c0c0efc5b97db0",
            "a4c16687c0db4db48a881fd47aa79acf",
            "ceab6f5b89d74957b9524a81ecd9a772",
            "0c95ac29e4c54746b7871f8d26d37b45",
            "965ac46eb33440058fb22e80c91e5739",
            "1a3ef2dcdcef423cab7de6e34d083c93",
            "7364c737619c4bcf9c4866dd9afe4474",
            "a768e50bdb6f40c2abf0f9fa8198d32b",
            "11982d5d64e24e249380b0607c2e34ff",
            "11bd08c681ac4a4883a3a14b14ce7b99",
            "b5357922c03049808d85c3790d4a4887"
          ]
        },
        "outputId": "7f2b9e51-b80e-4f6d-9f69-46c7d08a9532"
      },
      "execution_count": 11,
      "outputs": [
        {
          "output_type": "stream",
          "name": "stdout",
          "text": [
            "Downloading https://www.cs.toronto.edu/~kriz/cifar-10-python.tar.gz to ./data/cifar-10-python.tar.gz\n"
          ]
        },
        {
          "output_type": "display_data",
          "data": {
            "text/plain": [
              "  0%|          | 0/170498071 [00:00<?, ?it/s]"
            ],
            "application/vnd.jupyter.widget-view+json": {
              "version_major": 2,
              "version_minor": 0,
              "model_id": "d11509ab8c274f27b7c0c0efc5b97db0"
            }
          },
          "metadata": {}
        },
        {
          "output_type": "stream",
          "name": "stdout",
          "text": [
            "Extracting ./data/cifar-10-python.tar.gz to ./data\n",
            "Files already downloaded and verified\n",
            "Epoch: 0 | Train Acc: 54.405998 | Train Loss: 1.251933\n",
            "Epoch: 0 | Val Acc: 61.649998   | Val Loss: 1.083072\n",
            "Epoch: 1 | Train Acc: 73.886002 | Train Loss: 0.741119\n",
            "Epoch: 1 | Val Acc: 71.339996   | Val Loss: 0.838574\n",
            "Epoch: 2 | Train Acc: 80.815994 | Train Loss: 0.549681\n",
            "Epoch: 2 | Val Acc: 79.739998   | Val Loss: 0.586983\n",
            "Epoch: 3 | Train Acc: 85.262001 | Train Loss: 0.423709\n",
            "Epoch: 3 | Val Acc: 78.599998   | Val Loss: 0.634708\n",
            "Epoch: 4 | Train Acc: 88.821999 | Train Loss: 0.324203\n",
            "Epoch: 4 | Val Acc: 81.029999   | Val Loss: 0.582733\n",
            "Epoch: 5 | Train Acc: 91.479996 | Train Loss: 0.243042\n",
            "Epoch: 5 | Val Acc: 81.650002   | Val Loss: 0.608980\n",
            "Epoch: 6 | Train Acc: 93.947998 | Train Loss: 0.171914\n",
            "Epoch: 6 | Val Acc: 82.459999   | Val Loss: 0.596099\n",
            "Epoch: 7 | Train Acc: 95.265999 | Train Loss: 0.131874\n",
            "Epoch: 7 | Val Acc: 78.299995   | Val Loss: 0.848386\n",
            "Epoch: 8 | Train Acc: 96.444000 | Train Loss: 0.100385\n",
            "Epoch: 8 | Val Acc: 81.639999   | Val Loss: 0.758515\n",
            "Epoch: 9 | Train Acc: 97.152000 | Train Loss: 0.080064\n",
            "Epoch: 9 | Val Acc: 79.509995   | Val Loss: 0.943349\n",
            "Epoch: 10 | Train Acc: 97.711998 | Train Loss: 0.063452\n",
            "Epoch: 10 | Val Acc: 80.110001   | Val Loss: 0.944474\n",
            "Epoch: 11 | Train Acc: 97.863998 | Train Loss: 0.061162\n",
            "Epoch: 11 | Val Acc: 82.049995   | Val Loss: 0.838870\n",
            "Epoch: 12 | Train Acc: 98.091995 | Train Loss: 0.052581\n",
            "Epoch: 12 | Val Acc: 82.680000   | Val Loss: 0.804315\n",
            "Epoch: 13 | Train Acc: 98.197998 | Train Loss: 0.051891\n",
            "Epoch: 13 | Val Acc: 82.529999   | Val Loss: 0.816995\n",
            "Epoch: 14 | Train Acc: 98.849998 | Train Loss: 0.034051\n",
            "Epoch: 14 | Val Acc: 81.129997   | Val Loss: 1.039124\n",
            "Epoch: 15 | Train Acc: 98.512001 | Train Loss: 0.043446\n",
            "Epoch: 15 | Val Acc: 81.589996   | Val Loss: 0.880822\n",
            "Epoch: 16 | Train Acc: 98.451996 | Train Loss: 0.044608\n",
            "Epoch: 16 | Val Acc: 81.860001   | Val Loss: 0.909358\n",
            "Epoch: 17 | Train Acc: 99.047997 | Train Loss: 0.027064\n",
            "Epoch: 17 | Val Acc: 83.669998   | Val Loss: 0.863420\n",
            "Epoch: 18 | Train Acc: 98.755997 | Train Loss: 0.036893\n",
            "Epoch: 18 | Val Acc: 83.400002   | Val Loss: 0.823742\n",
            "Epoch: 19 | Train Acc: 98.931999 | Train Loss: 0.032184\n",
            "Epoch: 19 | Val Acc: 82.909996   | Val Loss: 0.940461\n",
            "Epoch: 20 | Train Acc: 98.865997 | Train Loss: 0.033223\n",
            "Epoch: 20 | Val Acc: 83.519997   | Val Loss: 0.886278\n",
            "Epoch: 21 | Train Acc: 98.930000 | Train Loss: 0.030587\n",
            "Epoch: 21 | Val Acc: 83.509995   | Val Loss: 0.870449\n",
            "Epoch: 22 | Train Acc: 99.248001 | Train Loss: 0.021786\n",
            "Epoch: 22 | Val Acc: 83.889999   | Val Loss: 0.871161\n",
            "Epoch: 23 | Train Acc: 99.059998 | Train Loss: 0.026522\n",
            "Epoch: 23 | Val Acc: 84.320000   | Val Loss: 0.846993\n",
            "Epoch: 24 | Train Acc: 99.229996 | Train Loss: 0.022409\n",
            "Epoch: 24 | Val Acc: 83.619995   | Val Loss: 0.917085\n"
          ]
        }
      ]
    },
    {
      "cell_type": "code",
      "source": [
        "torch.save(model,'resnet18_model.pt')\n",
        "#torch.save(model.state_dict(), 'resnet18_model_weights.pt')"
      ],
      "metadata": {
        "id": "dEkbno5I1KMq"
      },
      "execution_count": 14,
      "outputs": []
    },
    {
      "cell_type": "markdown",
      "source": [
        "### Questions 3.4, 3.5, 3.6, 3.7, 3.8\n",
        "You may write your own code for these questions below. These will not be autograded and you need not submit code for these, only the report."
      ],
      "metadata": {
        "id": "AAtU_NnOmzl5"
      }
    },
    {
      "cell_type": "markdown",
      "source": [
        "### Questions 3.4"
      ],
      "metadata": {
        "id": "vafZQQIXzqay"
      }
    },
    {
      "cell_type": "code",
      "source": [
        "plt.figure()\n",
        "epochs = 25\n",
        "train_losses_numpy = torch.tensor(train_losses).cpu().detach().numpy()\n",
        "val_losses_numpy = torch.tensor(val_losses).cpu().detach().numpy()\n",
        "plt.plot(range(epochs),train_losses_numpy,'b',label='Training loss')\n",
        "plt.plot(range(epochs),val_losses_numpy,'r',label='Validation loss')\n",
        "plt.xlabel('epoch')\n",
        "plt.ylabel('Loss')\n",
        "plt.title('Resnet18 (CIFAR-10)')\n",
        "plt.legend()\n",
        "plt.savefig('Loss.jpg')"
      ],
      "metadata": {
        "colab": {
          "base_uri": "https://localhost:8080/",
          "height": 0
        },
        "id": "dyeCBxBEztmp",
        "outputId": "cb0120f6-940a-4d55-c92a-0c340e9f4a0e"
      },
      "execution_count": 17,
      "outputs": [
        {
          "output_type": "display_data",
          "data": {
            "text/plain": [
              "<Figure size 432x288 with 1 Axes>"
            ],
            "image/png": "[encoded data removed]"
          },
          "metadata": {
            "needs_background": "light"
          }
        }
      ]
    },
    {
      "cell_type": "code",
      "source": [
        "plt.figure()\n",
        "train_accs_numpy = torch.tensor(train_accs).cpu().detach().numpy()\n",
        "val_accs_numpy = torch.tensor(val_accs).cpu().detach().numpy()\n",
        "plt.plot(range(epochs),train_accs_numpy,'b',label='Training_accuracy')\n",
        "plt.plot(range(epochs),val_accs_numpy,'r',label='Validation Accuracy')\n",
        "plt.xlabel('epoch')\n",
        "plt.ylabel('Accuracy')\n",
        "plt.title('Resnet18 (CIFAR-10)')\n",
        "plt.legend()\n",
        "plt.savefig('accuracy.jpg')"
      ],
      "metadata": {
        "colab": {
          "base_uri": "https://localhost:8080/",
          "height": 0
        },
        "id": "nPc5PXWRztqB",
        "outputId": "ed34b704-c26a-49e0-bbbb-7d265c2ff69b"
      },
      "execution_count": 18,
      "outputs": [
        {
          "output_type": "display_data",
          "data": {
            "text/plain": [
              "<Figure size 432x288 with 1 Axes>"
            ],
            "image/png": "[encoded data removed]"
          },
          "metadata": {
            "needs_background": "light"
          }
        }
      ]
    },
    {
      "cell_type": "markdown",
      "source": [
        "### Questions 3.5"
      ],
      "metadata": {
        "id": "aS1xMN6cz3sm"
      }
    },
    {
      "cell_type": "code",
      "source": [
        "# For Q 3.6\n",
        "if __name__ == \"__main__\":\n",
        "  vis_image = None\n",
        "  for data, labels in val_loader:\n",
        "    vis_image = data[12].unsqueeze(0)\n",
        "    break"
      ],
      "metadata": {
        "id": "9UcxsPr-hyNH"
      },
      "execution_count": 19,
      "outputs": []
    },
    {
      "cell_type": "code",
      "source": [
        "# You can also upload `vis_image.pkl` from Piazza and use it:\n",
        "import pickle\n",
        "vis_image = pickle.load(open(\"vis_image.pkl\", \"rb\")).to(device)\n",
        "plt.imshow(vis_image.squeeze().permute(1, 2, 0).cpu().detach().numpy())"
      ],
      "metadata": {
        "id": "lrGp-g97loFN",
        "colab": {
          "base_uri": "https://localhost:8080/",
          "height": 0
        },
        "outputId": "b66a6cf0-fdb5-4f01-ea4b-8d75035637fc"
      },
      "execution_count": 20,
      "outputs": [
        {
          "output_type": "execute_result",
          "data": {
            "text/plain": [
              "<matplotlib.image.AxesImage at 0x7f7c04b19890>"
            ]
          },
          "metadata": {},
          "execution_count": 20
        },
        {
          "output_type": "display_data",
          "data": {
            "text/plain": [
              "<Figure size 432x288 with 1 Axes>"
            ],
            "image/png": "[encoded data removed]"
          },
          "metadata": {
            "needs_background": "light"
          }
        }
      ]
    },
    {
      "cell_type": "code",
      "source": [
        "import matplotlib.pyplot as plt\n",
        "plt.imshow(vis_image.squeeze().permute(1, 2, 0).cpu().detach().numpy())"
      ],
      "metadata": {
        "id": "eJpCIBVolmZk",
        "colab": {
          "base_uri": "https://localhost:8080/",
          "height": 0
        },
        "outputId": "f4aa9c5c-8644-4199-ce2d-fc576de2a329"
      },
      "execution_count": 21,
      "outputs": [
        {
          "output_type": "execute_result",
          "data": {
            "text/plain": [
              "<matplotlib.image.AxesImage at 0x7f7c0505fd50>"
            ]
          },
          "metadata": {},
          "execution_count": 21
        },
        {
          "output_type": "display_data",
          "data": {
            "text/plain": [
              "<Figure size 432x288 with 1 Axes>"
            ],
            "image/png": "[encoded data removed]"
          },
          "metadata": {
            "needs_background": "light"
          }
        }
      ]
    },
    {
      "cell_type": "code",
      "source": [
        "transform = transforms.Compose([\n",
        "      transforms.ToTensor()\n",
        "  ])\n",
        "vis_image_numpy = vis_image.squeeze().permute(1, 2, 0).cpu().detach().numpy()\n",
        "image = transform(vis_image_numpy)"
      ],
      "metadata": {
        "id": "3wXf4amVcT_q"
      },
      "execution_count": 22,
      "outputs": []
    },
    {
      "cell_type": "code",
      "source": [
        "# we will save the conv layer weights in this list\n",
        "model_weights =[]\n",
        "#we will save the 49 conv layers in this list\n",
        "conv_layers = []\n",
        "# get all the model children as list\n",
        "model_children = list(model.children())\n",
        "#counter to keep count of the conv layers\n",
        "counter = 0\n",
        "#append all the conv layers and their respective wights to the list\n",
        "for i in range(len(model_children)):\n",
        "    if type(model_children[i]) == nn.Conv2d:\n",
        "        counter+=1\n",
        "        model_weights.append(model_children[i].weight)\n",
        "        conv_layers.append(model_children[i])\n",
        "    elif type(model_children[i]) == nn.Sequential:\n",
        "        for j in range(len(model_children[i])):\n",
        "            for child in model_children[i][j].children():\n",
        "                if type(child) == nn.Conv2d:\n",
        "                    counter+=1\n",
        "                    model_weights.append(child.weight)\n",
        "                    conv_layers.append(child)\n",
        "print(f\"Total convolution layers: {counter}\")\n",
        "print(conv_layers)"
      ],
      "metadata": {
        "colab": {
          "base_uri": "https://localhost:8080/"
        },
        "id": "n0hyDIaX2BbY",
        "outputId": "f53d21b2-2e0f-44b5-bf1d-c301ade36154"
      },
      "execution_count": 23,
      "outputs": [
        {
          "output_type": "stream",
          "name": "stdout",
          "text": [
            "Total convolution layers: 17\n",
            "[Conv2d(3, 64, kernel_size=(3, 3), stride=(1, 1), padding=(1, 1), bias=False), Conv2d(64, 64, kernel_size=(3, 3), stride=(1, 1), padding=(1, 1), bias=False), Conv2d(64, 64, kernel_size=(3, 3), stride=(1, 1), padding=(1, 1), bias=False), Conv2d(64, 64, kernel_size=(3, 3), stride=(1, 1), padding=(1, 1), bias=False), Conv2d(64, 64, kernel_size=(3, 3), stride=(1, 1), padding=(1, 1), bias=False), Conv2d(64, 128, kernel_size=(3, 3), stride=(2, 2), padding=(1, 1), bias=False), Conv2d(128, 128, kernel_size=(3, 3), stride=(1, 1), padding=(1, 1), bias=False), Conv2d(128, 128, kernel_size=(3, 3), stride=(1, 1), padding=(1, 1), bias=False), Conv2d(128, 128, kernel_size=(3, 3), stride=(1, 1), padding=(1, 1), bias=False), Conv2d(128, 256, kernel_size=(3, 3), stride=(2, 2), padding=(1, 1), bias=False), Conv2d(256, 256, kernel_size=(3, 3), stride=(1, 1), padding=(1, 1), bias=False), Conv2d(256, 256, kernel_size=(3, 3), stride=(1, 1), padding=(1, 1), bias=False), Conv2d(256, 256, kernel_size=(3, 3), stride=(1, 1), padding=(1, 1), bias=False), Conv2d(256, 512, kernel_size=(3, 3), stride=(2, 2), padding=(1, 1), bias=False), Conv2d(512, 512, kernel_size=(3, 3), stride=(1, 1), padding=(1, 1), bias=False), Conv2d(512, 512, kernel_size=(3, 3), stride=(1, 1), padding=(1, 1), bias=False), Conv2d(512, 512, kernel_size=(3, 3), stride=(1, 1), padding=(1, 1), bias=False)]\n"
          ]
        }
      ]
    },
    {
      "cell_type": "code",
      "source": [
        "outputs = []\n",
        "names = []\n",
        "image = image.to(device)\n",
        "for layer in conv_layers[0:]:\n",
        "    image = layer(image)\n",
        "    outputs.append(image)\n",
        "    names.append(str(layer))\n",
        "print(len(outputs))\n",
        "#print feature_maps\n",
        "for feature_map in outputs:\n",
        "    print(feature_map.shape)"
      ],
      "metadata": {
        "colab": {
          "base_uri": "https://localhost:8080/"
        },
        "id": "TXu4gkWY1plX",
        "outputId": "6ce370dd-eedb-44e9-c967-f676625ab2e9"
      },
      "execution_count": 24,
      "outputs": [
        {
          "output_type": "stream",
          "name": "stdout",
          "text": [
            "17\n",
            "torch.Size([64, 32, 32])\n",
            "torch.Size([64, 32, 32])\n",
            "torch.Size([64, 32, 32])\n",
            "torch.Size([64, 32, 32])\n",
            "torch.Size([64, 32, 32])\n",
            "torch.Size([128, 16, 16])\n",
            "torch.Size([128, 16, 16])\n",
            "torch.Size([128, 16, 16])\n",
            "torch.Size([128, 16, 16])\n",
            "torch.Size([256, 8, 8])\n",
            "torch.Size([256, 8, 8])\n",
            "torch.Size([256, 8, 8])\n",
            "torch.Size([256, 8, 8])\n",
            "torch.Size([512, 4, 4])\n",
            "torch.Size([512, 4, 4])\n",
            "torch.Size([512, 4, 4])\n",
            "torch.Size([512, 4, 4])\n"
          ]
        }
      ]
    },
    {
      "cell_type": "code",
      "source": [
        "processed = []\n",
        "for feature_map in outputs:\n",
        "    feature_map = feature_map.squeeze(0)\n",
        "    gray_scale = torch.sum(feature_map,0)\n",
        "    gray_scale = gray_scale / feature_map.shape[0]\n",
        "    processed.append(gray_scale.data.cpu().numpy())\n",
        "for fm in processed:\n",
        "    print(fm.shape)"
      ],
      "metadata": {
        "colab": {
          "base_uri": "https://localhost:8080/"
        },
        "id": "x-QMNWqW1s5-",
        "outputId": "e7ce8307-383f-4681-e677-8ad273535078"
      },
      "execution_count": 25,
      "outputs": [
        {
          "output_type": "stream",
          "name": "stdout",
          "text": [
            "(32, 32)\n",
            "(32, 32)\n",
            "(32, 32)\n",
            "(32, 32)\n",
            "(32, 32)\n",
            "(16, 16)\n",
            "(16, 16)\n",
            "(16, 16)\n",
            "(16, 16)\n",
            "(8, 8)\n",
            "(8, 8)\n",
            "(8, 8)\n",
            "(8, 8)\n",
            "(4, 4)\n",
            "(4, 4)\n",
            "(4, 4)\n",
            "(4, 4)\n"
          ]
        }
      ]
    },
    {
      "cell_type": "code",
      "source": [
        "# visualize the first conv layer filters\n",
        "plt.figure(figsize=(20, 17))\n",
        "num_conv_layer = 12\n",
        "num_i = model_weights[num_conv_layer].shape[0]\n",
        "print(model_weights[num_conv_layer].shape)\n",
        "for i, filter in enumerate(model_weights[num_conv_layer]):\n",
        "    #print(filter.shape)\n",
        "    plt.subplot(8, 8, i+1) \n",
        "    plt.imshow(filter[0, :, :].cpu().detach(), cmap='gray')\n",
        "    #plt.imshow(filter.cpu().detach(), cmap='gray')\n",
        "    plt.axis('off')\n",
        "    plt.savefig('filter_conv_layer'+str(num_conv_layer)+'.png')\n",
        "plt.show()"
      ],
      "metadata": {
        "colab": {
          "base_uri": "https://localhost:8080/",
          "height": 0
        },
        "id": "v36rcqCv1x7E",
        "outputId": "51fd4500-4142-4296-ea49-ca69c31bb9d9"
      },
      "execution_count": 54,
      "outputs": [
        {
          "output_type": "stream",
          "name": "stdout",
          "text": [
            "torch.Size([256, 256, 3, 3])\n"
          ]
        },
        {
          "output_type": "error",
          "ename": "ValueError",
          "evalue": "ignored",
          "traceback": [
            "\u001b[0;31m---------------------------------------------------------------------------\u001b[0m",
            "\u001b[0;31mValueError\u001b[0m                                Traceback (most recent call last)",
            "\u001b[0;32m<ipython-input-54-436edfb04c89>\u001b[0m in \u001b[0;36m<module>\u001b[0;34m\u001b[0m\n\u001b[1;32m      6\u001b[0m \u001b[0;32mfor\u001b[0m \u001b[0mi\u001b[0m\u001b[0;34m,\u001b[0m \u001b[0mfilter\u001b[0m \u001b[0;32min\u001b[0m \u001b[0menumerate\u001b[0m\u001b[0;34m(\u001b[0m\u001b[0mmodel_weights\u001b[0m\u001b[0;34m[\u001b[0m\u001b[0mnum_conv_layer\u001b[0m\u001b[0;34m]\u001b[0m\u001b[0;34m)\u001b[0m\u001b[0;34m:\u001b[0m\u001b[0;34m\u001b[0m\u001b[0;34m\u001b[0m\u001b[0m\n\u001b[1;32m      7\u001b[0m     \u001b[0;31m#print(filter.shape)\u001b[0m\u001b[0;34m\u001b[0m\u001b[0;34m\u001b[0m\u001b[0;34m\u001b[0m\u001b[0m\n\u001b[0;32m----> 8\u001b[0;31m     \u001b[0mplt\u001b[0m\u001b[0;34m.\u001b[0m\u001b[0msubplot\u001b[0m\u001b[0;34m(\u001b[0m\u001b[0;36m8\u001b[0m\u001b[0;34m,\u001b[0m \u001b[0;36m8\u001b[0m\u001b[0;34m,\u001b[0m \u001b[0mi\u001b[0m\u001b[0;34m+\u001b[0m\u001b[0;36m1\u001b[0m\u001b[0;34m)\u001b[0m\u001b[0;34m\u001b[0m\u001b[0;34m\u001b[0m\u001b[0m\n\u001b[0m\u001b[1;32m      9\u001b[0m     \u001b[0mplt\u001b[0m\u001b[0;34m.\u001b[0m\u001b[0mimshow\u001b[0m\u001b[0;34m(\u001b[0m\u001b[0mfilter\u001b[0m\u001b[0;34m[\u001b[0m\u001b[0;36m0\u001b[0m\u001b[0;34m,\u001b[0m \u001b[0;34m:\u001b[0m\u001b[0;34m,\u001b[0m \u001b[0;34m:\u001b[0m\u001b[0;34m]\u001b[0m\u001b[0;34m.\u001b[0m\u001b[0mcpu\u001b[0m\u001b[0;34m(\u001b[0m\u001b[0;34m)\u001b[0m\u001b[0;34m.\u001b[0m\u001b[0mdetach\u001b[0m\u001b[0;34m(\u001b[0m\u001b[0;34m)\u001b[0m\u001b[0;34m,\u001b[0m \u001b[0mcmap\u001b[0m\u001b[0;34m=\u001b[0m\u001b[0;34m'gray'\u001b[0m\u001b[0;34m)\u001b[0m\u001b[0;34m\u001b[0m\u001b[0;34m\u001b[0m\u001b[0m\n\u001b[1;32m     10\u001b[0m     \u001b[0;31m#plt.imshow(filter.cpu().detach(), cmap='gray')\u001b[0m\u001b[0;34m\u001b[0m\u001b[0;34m\u001b[0m\u001b[0;34m\u001b[0m\u001b[0m\n",
            "\u001b[0;32m/usr/local/lib/python3.7/dist-packages/matplotlib/pyplot.py\u001b[0m in \u001b[0;36msubplot\u001b[0;34m(*args, **kwargs)\u001b[0m\n\u001b[1;32m   1028\u001b[0m \u001b[0;34m\u001b[0m\u001b[0m\n\u001b[1;32m   1029\u001b[0m     \u001b[0mfig\u001b[0m \u001b[0;34m=\u001b[0m \u001b[0mgcf\u001b[0m\u001b[0;34m(\u001b[0m\u001b[0;34m)\u001b[0m\u001b[0;34m\u001b[0m\u001b[0;34m\u001b[0m\u001b[0m\n\u001b[0;32m-> 1030\u001b[0;31m     \u001b[0ma\u001b[0m \u001b[0;34m=\u001b[0m \u001b[0mfig\u001b[0m\u001b[0;34m.\u001b[0m\u001b[0madd_subplot\u001b[0m\u001b[0;34m(\u001b[0m\u001b[0;34m*\u001b[0m\u001b[0margs\u001b[0m\u001b[0;34m,\u001b[0m \u001b[0;34m**\u001b[0m\u001b[0mkwargs\u001b[0m\u001b[0;34m)\u001b[0m\u001b[0;34m\u001b[0m\u001b[0;34m\u001b[0m\u001b[0m\n\u001b[0m\u001b[1;32m   1031\u001b[0m     \u001b[0mbbox\u001b[0m \u001b[0;34m=\u001b[0m \u001b[0ma\u001b[0m\u001b[0;34m.\u001b[0m\u001b[0mbbox\u001b[0m\u001b[0;34m\u001b[0m\u001b[0;34m\u001b[0m\u001b[0m\n\u001b[1;32m   1032\u001b[0m     \u001b[0mbyebye\u001b[0m \u001b[0;34m=\u001b[0m \u001b[0;34m[\u001b[0m\u001b[0;34m]\u001b[0m\u001b[0;34m\u001b[0m\u001b[0;34m\u001b[0m\u001b[0m\n",
            "\u001b[0;32m/usr/local/lib/python3.7/dist-packages/matplotlib/figure.py\u001b[0m in \u001b[0;36madd_subplot\u001b[0;34m(self, *args, **kwargs)\u001b[0m\n\u001b[1;32m   1417\u001b[0m                     \u001b[0mself\u001b[0m\u001b[0;34m.\u001b[0m\u001b[0m_axstack\u001b[0m\u001b[0;34m.\u001b[0m\u001b[0mremove\u001b[0m\u001b[0;34m(\u001b[0m\u001b[0max\u001b[0m\u001b[0;34m)\u001b[0m\u001b[0;34m\u001b[0m\u001b[0;34m\u001b[0m\u001b[0m\n\u001b[1;32m   1418\u001b[0m \u001b[0;34m\u001b[0m\u001b[0m\n\u001b[0;32m-> 1419\u001b[0;31m             \u001b[0ma\u001b[0m \u001b[0;34m=\u001b[0m \u001b[0msubplot_class_factory\u001b[0m\u001b[0;34m(\u001b[0m\u001b[0mprojection_class\u001b[0m\u001b[0;34m)\u001b[0m\u001b[0;34m(\u001b[0m\u001b[0mself\u001b[0m\u001b[0;34m,\u001b[0m \u001b[0;34m*\u001b[0m\u001b[0margs\u001b[0m\u001b[0;34m,\u001b[0m \u001b[0;34m**\u001b[0m\u001b[0mkwargs\u001b[0m\u001b[0;34m)\u001b[0m\u001b[0;34m\u001b[0m\u001b[0;34m\u001b[0m\u001b[0m\n\u001b[0m\u001b[1;32m   1420\u001b[0m \u001b[0;34m\u001b[0m\u001b[0m\n\u001b[1;32m   1421\u001b[0m         \u001b[0;32mreturn\u001b[0m \u001b[0mself\u001b[0m\u001b[0;34m.\u001b[0m\u001b[0m_add_axes_internal\u001b[0m\u001b[0;34m(\u001b[0m\u001b[0mkey\u001b[0m\u001b[0;34m,\u001b[0m \u001b[0ma\u001b[0m\u001b[0;34m)\u001b[0m\u001b[0;34m\u001b[0m\u001b[0;34m\u001b[0m\u001b[0m\n",
            "\u001b[0;32m/usr/local/lib/python3.7/dist-packages/matplotlib/axes/_subplots.py\u001b[0m in \u001b[0;36m__init__\u001b[0;34m(self, fig, *args, **kwargs)\u001b[0m\n\u001b[1;32m     64\u001b[0m                 \u001b[0;32mif\u001b[0m \u001b[0mnum\u001b[0m \u001b[0;34m<\u001b[0m \u001b[0;36m1\u001b[0m \u001b[0;32mor\u001b[0m \u001b[0mnum\u001b[0m \u001b[0;34m>\u001b[0m \u001b[0mrows\u001b[0m\u001b[0;34m*\u001b[0m\u001b[0mcols\u001b[0m\u001b[0;34m:\u001b[0m\u001b[0;34m\u001b[0m\u001b[0;34m\u001b[0m\u001b[0m\n\u001b[1;32m     65\u001b[0m                     raise ValueError(\n\u001b[0;32m---> 66\u001b[0;31m                         f\"num must be 1 <= num <= {rows*cols}, not {num}\")\n\u001b[0m\u001b[1;32m     67\u001b[0m                 self._subplotspec = GridSpec(\n\u001b[1;32m     68\u001b[0m                         rows, cols, figure=self.figure)[int(num) - 1]\n",
            "\u001b[0;31mValueError\u001b[0m: num must be 1 <= num <= 64, not 65"
          ]
        },
        {
          "output_type": "display_data",
          "data": {
            "text/plain": [
              "<Figure size 1440x1224 with 64 Axes>"
            ],
            "image/png": "[encoded data removed]"
          },
          "metadata": {
            "needs_background": "light"
          }
        }
      ]
    },
    {
      "cell_type": "markdown",
      "source": [
        "### Questions 3.6"
      ],
      "metadata": {
        "id": "kKzG13H52D0q"
      }
    },
    {
      "cell_type": "code",
      "source": [
        "fig = plt.figure(figsize=(30, 50))\n",
        "for i in range(len(processed)):\n",
        "    a = fig.add_subplot(5, 4, i+1)\n",
        "    imgplot = plt.imshow(processed[i])\n",
        "    a.axis(\"off\")\n",
        "    a.set_title(names[i].split('(')[0], fontsize=30)\n",
        "plt.savefig(str('feature_maps.jpg'), bbox_inches='tight')"
      ],
      "metadata": {
        "colab": {
          "base_uri": "https://localhost:8080/",
          "height": 0
        },
        "id": "ZTdrnHew1x-q",
        "outputId": "a5abff87-d124-43f4-897a-db8bc05bb727"
      },
      "execution_count": 27,
      "outputs": [
        {
          "output_type": "display_data",
          "data": {
            "text/plain": [
              "<Figure size 2160x3600 with 17 Axes>"
            ],
            "image/png": "[encoded data removed]"
          },
          "metadata": {
            "needs_background": "light"
          }
        }
      ]
    },
    {
      "cell_type": "markdown",
      "source": [
        "### Questions 3.7"
      ],
      "metadata": {
        "id": "r6Jzc5hg2KSw"
      }
    },
    {
      "cell_type": "code",
      "source": [
        "hyper_parameters= {\"activation_str\":['relu','tanh'], \"initialization\":[\"xavier_normal\",\"xavier_uniform\",\"kaiming_normal\"]   }\n",
        "\n",
        "#{\"model_architecture\":[(400,500),(500,600),(600,500),(500,700)],\"learning_rate\":[0.1,0.01,0.001,0.0001],\"non_linearity\":['softmax','tanh'],\"mini_batch\":[16,32,64]}\n",
        "train_loader, val_loader = get_cifar10()\n",
        "train_accs, train_losses, val_accs, val_losses = [], [], [], []\n",
        "n_epochs = 25\n",
        "for activation_str in hyper_parameters[\"activation_str\"]:\n",
        "    for initialization in hyper_parameters[\"initialization\"]:\n",
        "      print(f'Results of the activation funciton = {activation_str}, initialization = {initialization}')\n",
        "      model_search = ResNet18(\n",
        "          activation_str=activation_str,\n",
        "          initialization=initialization\n",
        "        ).to(device)\n",
        "      criterion = nn.CrossEntropyLoss()\n",
        "      optimizer = optim.Adam(model_search.parameters())\n",
        "\n",
        "      for epoch in range(n_epochs):\n",
        "        # Training\n",
        "        train_acc, train_loss = train_loop(epoch, model_search, train_loader, criterion, optimizer)\n",
        "        train_accs.append(train_acc)\n",
        "        train_losses.append(train_loss)\n",
        "\n",
        "        # Validation\n",
        "        val_acc, val_loss = valid_loop(epoch, model_search, val_loader, criterion)\n",
        "        val_accs.append(val_acc)\n",
        "        val_losses.append(val_loss)\n",
        "\n",
        "      torch.save(model_search,'model_search_'+activation_str+'_'+initialization+'_.pt')"
      ],
      "metadata": {
        "colab": {
          "base_uri": "https://localhost:8080/",
          "height": 488
        },
        "id": "UxWXm5Oy2K0P",
        "outputId": "cf2af440-a5e0-45be-cd0f-b1e3229d50d7"
      },
      "execution_count": 196,
      "outputs": [
        {
          "output_type": "stream",
          "name": "stdout",
          "text": [
            "Files already downloaded and verified\n",
            "Files already downloaded and verified\n",
            "Results of the activation funciton = relu , initialization = xavier_normal\n",
            "Epoch: 0 | Train Acc: 53.827999 | Train Loss: 1.262013\n",
            "Epoch: 0 | Val Acc: 59.489998   | Val Loss: 1.131897\n",
            "Epoch: 1 | Train Acc: 73.152000 | Train Loss: 0.764635\n",
            "Epoch: 1 | Val Acc: 73.839996   | Val Loss: 0.750811\n"
          ]
        },
        {
          "output_type": "error",
          "ename": "KeyboardInterrupt",
          "evalue": "ignored",
          "traceback": [
            "\u001b[0;31m---------------------------------------------------------------------------\u001b[0m",
            "\u001b[0;31mKeyboardInterrupt\u001b[0m                         Traceback (most recent call last)",
            "\u001b[0;32m<ipython-input-196-8e21a49bf552>\u001b[0m in \u001b[0;36m<module>\u001b[0;34m\u001b[0m\n\u001b[1;32m     17\u001b[0m       \u001b[0;32mfor\u001b[0m \u001b[0mepoch\u001b[0m \u001b[0;32min\u001b[0m \u001b[0mrange\u001b[0m\u001b[0;34m(\u001b[0m\u001b[0mn_epochs\u001b[0m\u001b[0;34m)\u001b[0m\u001b[0;34m:\u001b[0m\u001b[0;34m\u001b[0m\u001b[0;34m\u001b[0m\u001b[0m\n\u001b[1;32m     18\u001b[0m         \u001b[0;31m# Training\u001b[0m\u001b[0;34m\u001b[0m\u001b[0;34m\u001b[0m\u001b[0;34m\u001b[0m\u001b[0m\n\u001b[0;32m---> 19\u001b[0;31m         \u001b[0mtrain_acc\u001b[0m\u001b[0;34m,\u001b[0m \u001b[0mtrain_loss\u001b[0m \u001b[0;34m=\u001b[0m \u001b[0mtrain_loop\u001b[0m\u001b[0;34m(\u001b[0m\u001b[0mepoch\u001b[0m\u001b[0;34m,\u001b[0m \u001b[0mmodel_search\u001b[0m\u001b[0;34m,\u001b[0m \u001b[0mtrain_loader\u001b[0m\u001b[0;34m,\u001b[0m \u001b[0mcriterion\u001b[0m\u001b[0;34m,\u001b[0m \u001b[0moptimizer\u001b[0m\u001b[0;34m)\u001b[0m\u001b[0;34m\u001b[0m\u001b[0;34m\u001b[0m\u001b[0m\n\u001b[0m\u001b[1;32m     20\u001b[0m         \u001b[0mtrain_accs\u001b[0m\u001b[0;34m.\u001b[0m\u001b[0mappend\u001b[0m\u001b[0;34m(\u001b[0m\u001b[0mtrain_acc\u001b[0m\u001b[0;34m)\u001b[0m\u001b[0;34m\u001b[0m\u001b[0;34m\u001b[0m\u001b[0m\n\u001b[1;32m     21\u001b[0m         \u001b[0mtrain_losses\u001b[0m\u001b[0;34m.\u001b[0m\u001b[0mappend\u001b[0m\u001b[0;34m(\u001b[0m\u001b[0mtrain_loss\u001b[0m\u001b[0;34m)\u001b[0m\u001b[0;34m\u001b[0m\u001b[0;34m\u001b[0m\u001b[0m\n",
            "\u001b[0;32m<ipython-input-9-c362ec755e9f>\u001b[0m in \u001b[0;36mtrain_loop\u001b[0;34m(epoch, model, train_loader, criterion, optimizer)\u001b[0m\n\u001b[1;32m     52\u001b[0m     \u001b[0moptimizer\u001b[0m\u001b[0;34m.\u001b[0m\u001b[0mstep\u001b[0m\u001b[0;34m(\u001b[0m\u001b[0;34m)\u001b[0m\u001b[0;34m\u001b[0m\u001b[0;34m\u001b[0m\u001b[0m\n\u001b[1;32m     53\u001b[0m \u001b[0;34m\u001b[0m\u001b[0m\n\u001b[0;32m---> 54\u001b[0;31m     \u001b[0msum_loss\u001b[0m \u001b[0;34m+=\u001b[0m \u001b[0mloss\u001b[0m\u001b[0;34m.\u001b[0m\u001b[0mitem\u001b[0m\u001b[0;34m(\u001b[0m\u001b[0;34m)\u001b[0m\u001b[0;34m\u001b[0m\u001b[0;34m\u001b[0m\u001b[0m\n\u001b[0m\u001b[1;32m     55\u001b[0m     \u001b[0m_\u001b[0m\u001b[0;34m,\u001b[0m \u001b[0mpredicted\u001b[0m \u001b[0;34m=\u001b[0m \u001b[0mtorch\u001b[0m\u001b[0;34m.\u001b[0m\u001b[0mmax\u001b[0m\u001b[0;34m(\u001b[0m\u001b[0moutputs\u001b[0m\u001b[0;34m.\u001b[0m\u001b[0mdata\u001b[0m\u001b[0;34m,\u001b[0m \u001b[0;36m1\u001b[0m\u001b[0;34m)\u001b[0m\u001b[0;34m\u001b[0m\u001b[0;34m\u001b[0m\u001b[0m\n\u001b[1;32m     56\u001b[0m     \u001b[0mtotal\u001b[0m \u001b[0;34m+=\u001b[0m \u001b[0mlabels\u001b[0m\u001b[0;34m.\u001b[0m\u001b[0msize\u001b[0m\u001b[0;34m(\u001b[0m\u001b[0;36m0\u001b[0m\u001b[0;34m)\u001b[0m\u001b[0;34m\u001b[0m\u001b[0;34m\u001b[0m\u001b[0m\n",
            "\u001b[0;31mKeyboardInterrupt\u001b[0m: "
          ]
        }
      ]
    },
    {
      "cell_type": "markdown",
      "source": [
        "### Questions 3.8"
      ],
      "metadata": {
        "id": "YSafQHja2Nkc"
      }
    },
    {
      "cell_type": "code",
      "source": [
        "pytorch_total_params = sum(p.numel() for p in model.parameters())\n",
        "pytorch_total_params"
      ],
      "metadata": {
        "colab": {
          "base_uri": "https://localhost:8080/"
        },
        "id": "ta_BjEhj2OL3",
        "outputId": "6c0a93ec-097c-4231-e53b-f1a92eff7e67"
      },
      "execution_count": 76,
      "outputs": [
        {
          "output_type": "execute_result",
          "data": {
            "text/plain": [
              "11173962"
            ]
          },
          "metadata": {},
          "execution_count": 76
        }
      ]
    },
    {
      "cell_type": "code",
      "source": [
        "class Net(nn.Module):\n",
        "    def __init__(self):\n",
        "        super().__init__()\n",
        "        self.fc1 = nn.Linear(32*32*3, 1024)\n",
        "        self.bn1 = nn.BatchNorm1d(num_features=1024)\n",
        "        self.fc2 = nn.Linear(1024, 84)\n",
        "        self.fc3 = nn.Linear(84, 10)\n",
        "        #self.dropout = nn.Dropout(0.25)\n",
        "        self.sm = nn.Softmax(dim=1)\n",
        "\n",
        "    def forward(self, x):\n",
        "        x = torch.flatten(x, 1)\n",
        "        x = self.fc1(F.relu(x))\n",
        "        #x = self.dropout(x)\n",
        "        x = self.fc2(F.relu(self.bn1(x)))\n",
        "        #x = self.dropout(x)\n",
        "        x = self.fc3(F.relu(x))\n",
        "        x = self.sm(x)\n",
        "        return x"
      ],
      "metadata": {
        "id": "xb2ePGO03RXZ"
      },
      "execution_count": 141,
      "outputs": []
    },
    {
      "cell_type": "code",
      "source": [
        "class Net(nn.Module):\n",
        "    def __init__(self):\n",
        "        super().__init__()\n",
        "        self.fc1 = nn.Linear(32*32*3, 2088)\n",
        "        self.bn1 = nn.BatchNorm1d(num_features=2088)\n",
        "        self.fc2 = nn.Linear(2088, 1536)\n",
        "        self.fc3 = nn.Linear(1536, 768)\n",
        "        self.fc4 = nn.Linear(768, 384)\n",
        "        self.fc5 = nn.Linear(384, 128)\n",
        "        self.fc6 = nn.Linear(128, 10)\n",
        "        #self.dropout = nn.Dropout(0.25)\n",
        "        #self.sm = nn.Softmax(dim=1)\n",
        "\n",
        "    def forward(self, x):\n",
        "        x = torch.flatten(x, 1)\n",
        "        x = self.fc1(F.relu(x))\n",
        "        #x = self.dropout(x)\n",
        "        x = self.fc2(F.relu(self.bn1(x)))\n",
        "        #x = self.dropout(x)\n",
        "        x = self.fc3(F.relu(x))\n",
        "        #x = self.dropout(x)\n",
        "        x = self.fc4(F.relu(x))\n",
        "        #x = self.dropout(x)\n",
        "        x = self.fc5(F.relu(x))  \n",
        "        x = self.fc6(F.relu(x))        \n",
        "        #x = self.sm(x)\n",
        "        return x"
      ],
      "metadata": {
        "id": "m_2tdbx3Qsbh"
      },
      "execution_count": 190,
      "outputs": []
    },
    {
      "cell_type": "code",
      "source": [
        "model_mlp = Net().to(device)\n",
        "pytorch_total_params_mlp = sum(p.numel() for p in model_mlp.parameters())\n",
        "pytorch_total_params_mlp"
      ],
      "metadata": {
        "colab": {
          "base_uri": "https://localhost:8080/"
        },
        "id": "W4xaPrdT3Xr6",
        "outputId": "0daee9d7-ca50-4461-bdc7-de2f73d70fea"
      },
      "execution_count": 191,
      "outputs": [
        {
          "output_type": "execute_result",
          "data": {
            "text/plain": [
              "11155586"
            ]
          },
          "metadata": {},
          "execution_count": 191
        }
      ]
    },
    {
      "cell_type": "code",
      "source": [
        "pytorch_total_params_mlp - pytorch_total_params"
      ],
      "metadata": {
        "colab": {
          "base_uri": "https://localhost:8080/"
        },
        "id": "tktAJCSkIEw1",
        "outputId": "ae4f9d49-c94b-43af-ddf8-ce08ee078422"
      },
      "execution_count": 192,
      "outputs": [
        {
          "output_type": "execute_result",
          "data": {
            "text/plain": [
              "-18376"
            ]
          },
          "metadata": {},
          "execution_count": 192
        }
      ]
    },
    {
      "cell_type": "code",
      "source": [
        "train_accs, train_losses, val_accs, val_losses = [], [], [], []\n",
        "n_epochs = 25\n",
        "\n",
        "\n",
        "criterion = nn.CrossEntropyLoss()\n",
        "optimizer = optim.Adam(model_mlp.parameters(),lr=0.01)\n",
        "\n",
        "train_loader, val_loader = get_cifar10()\n",
        "\n",
        "for epoch in range(n_epochs):\n",
        "  # Training\n",
        "  train_acc, train_loss = train_loop(epoch, model_mlp, train_loader, criterion, optimizer)\n",
        "  train_accs.append(train_acc)\n",
        "  train_losses.append(train_loss)\n",
        "\n",
        "  # Validation\n",
        "  val_acc, val_loss = valid_loop(epoch, model_mlp, val_loader, criterion)\n",
        "  val_accs.append(val_acc)\n",
        "  val_losses.append(val_loss)"
      ],
      "metadata": {
        "colab": {
          "base_uri": "https://localhost:8080/"
        },
        "id": "Mhss2wa-3TUd",
        "outputId": "da4f8c07-7c8d-4d59-a18b-a01d919de8cd"
      },
      "execution_count": 193,
      "outputs": [
        {
          "output_type": "stream",
          "name": "stdout",
          "text": [
            "Files already downloaded and verified\n",
            "Files already downloaded and verified\n",
            "Epoch: 0 | Train Acc: 29.528000 | Train Loss: 1.993964\n",
            "Epoch: 0 | Val Acc: 34.529999   | Val Loss: 1.789685\n",
            "Epoch: 1 | Train Acc: 39.770000 | Train Loss: 1.678839\n",
            "Epoch: 1 | Val Acc: 41.039997   | Val Loss: 1.644224\n",
            "Epoch: 2 | Train Acc: 44.293999 | Train Loss: 1.554275\n",
            "Epoch: 2 | Val Acc: 43.079998   | Val Loss: 1.658580\n",
            "Epoch: 3 | Train Acc: 47.683998 | Train Loss: 1.469916\n",
            "Epoch: 3 | Val Acc: 45.649998   | Val Loss: 1.526562\n",
            "Epoch: 4 | Train Acc: 49.750000 | Train Loss: 1.410432\n",
            "Epoch: 4 | Val Acc: 44.489998   | Val Loss: 1.583585\n",
            "Epoch: 5 | Train Acc: 51.963997 | Train Loss: 1.354393\n",
            "Epoch: 5 | Val Acc: 44.829998   | Val Loss: 1.584415\n",
            "Epoch: 6 | Train Acc: 53.660000 | Train Loss: 1.308740\n",
            "Epoch: 6 | Val Acc: 47.770000   | Val Loss: 1.502146\n",
            "Epoch: 7 | Train Acc: 55.313999 | Train Loss: 1.259795\n",
            "Epoch: 7 | Val Acc: 44.399998   | Val Loss: 1.583476\n",
            "Epoch: 8 | Train Acc: 57.365997 | Train Loss: 1.213105\n",
            "Epoch: 8 | Val Acc: 49.559998   | Val Loss: 1.476082\n",
            "Epoch: 9 | Train Acc: 58.519997 | Train Loss: 1.178000\n",
            "Epoch: 9 | Val Acc: 48.959999   | Val Loss: 1.492194\n",
            "Epoch: 10 | Train Acc: 59.812000 | Train Loss: 1.146277\n",
            "Epoch: 10 | Val Acc: 49.919998   | Val Loss: 1.470020\n",
            "Epoch: 11 | Train Acc: 61.519997 | Train Loss: 1.107858\n",
            "Epoch: 11 | Val Acc: 51.369999   | Val Loss: 1.470556\n",
            "Epoch: 12 | Train Acc: 62.615997 | Train Loss: 1.071623\n",
            "Epoch: 12 | Val Acc: 48.570000   | Val Loss: 1.578583\n",
            "Epoch: 13 | Train Acc: 63.958000 | Train Loss: 1.039778\n",
            "Epoch: 13 | Val Acc: 52.079998   | Val Loss: 1.493625\n",
            "Epoch: 14 | Train Acc: 64.778000 | Train Loss: 1.010022\n",
            "Epoch: 14 | Val Acc: 48.739998   | Val Loss: 1.556447\n",
            "Epoch: 15 | Train Acc: 66.195999 | Train Loss: 0.980614\n",
            "Epoch: 15 | Val Acc: 52.049999   | Val Loss: 1.555201\n",
            "Epoch: 16 | Train Acc: 67.164001 | Train Loss: 0.947390\n",
            "Epoch: 16 | Val Acc: 51.340000   | Val Loss: 1.576712\n",
            "Epoch: 17 | Train Acc: 68.099998 | Train Loss: 0.924810\n",
            "Epoch: 17 | Val Acc: 52.789997   | Val Loss: 1.507775\n",
            "Epoch: 18 | Train Acc: 69.217995 | Train Loss: 0.887175\n",
            "Epoch: 18 | Val Acc: 48.789997   | Val Loss: 1.745579\n",
            "Epoch: 19 | Train Acc: 70.180000 | Train Loss: 0.872075\n",
            "Epoch: 19 | Val Acc: 49.849998   | Val Loss: 1.573501\n",
            "Epoch: 20 | Train Acc: 70.872002 | Train Loss: 0.845443\n",
            "Epoch: 20 | Val Acc: 52.000000   | Val Loss: 1.601184\n",
            "Epoch: 21 | Train Acc: 71.877998 | Train Loss: 0.821809\n",
            "Epoch: 21 | Val Acc: 48.849998   | Val Loss: 1.846552\n",
            "Epoch: 22 | Train Acc: 72.633995 | Train Loss: 0.805877\n",
            "Epoch: 22 | Val Acc: 50.619999   | Val Loss: 1.696904\n",
            "Epoch: 23 | Train Acc: 73.087997 | Train Loss: 0.790885\n",
            "Epoch: 23 | Val Acc: 50.879997   | Val Loss: 1.760127\n",
            "Epoch: 24 | Train Acc: 73.959999 | Train Loss: 0.766402\n",
            "Epoch: 24 | Val Acc: 50.419998   | Val Loss: 1.929437\n"
          ]
        }
      ]
    },
    {
      "cell_type": "code",
      "source": [
        "torch.save(model_mlp,'mlp_model.pt')\n",
        "#torch.save(model.state_dict(), 'resnet18_model_weights.pt')"
      ],
      "metadata": {
        "id": "BsykGcbFJyTA"
      },
      "execution_count": 197,
      "outputs": []
    },
    {
      "cell_type": "code",
      "source": [],
      "metadata": {
        "id": "YzORrJaObFsR"
      },
      "execution_count": null,
      "outputs": []
    }
  ]
}